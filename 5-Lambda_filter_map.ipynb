{
 "cells": [
  {
   "cell_type": "markdown",
   "metadata": {},
   "source": [
    "* Lambda : Kullanım şekli ; lambda arguments: expression\n",
    "Syntax olarak sadece bir ifade(expression) ve birden fazla parametre (arguments) alabilir."
   ]
  },
  {
   "cell_type": "code",
   "execution_count": 1,
   "metadata": {},
   "outputs": [
    {
     "name": "stdout",
     "output_type": "stream",
     "text": [
      "30\n"
     ]
    }
   ],
   "source": [
    "double = lambda x: x * 2  # x: arguments / x*2: expression\n",
    "\n",
    "print(double(15))"
   ]
  },
  {
   "cell_type": "code",
   "execution_count": 2,
   "metadata": {},
   "outputs": [
    {
     "name": "stdout",
     "output_type": "stream",
     "text": [
      "30\n"
     ]
    }
   ],
   "source": [
    "def double(x):\n",
    "    return x*2\n",
    "\n",
    "print(double(15))"
   ]
  },
  {
   "cell_type": "markdown",
   "metadata": {},
   "source": [
    "İki örnekte de verilen sayının 2 katını almak isteyip birinde def ile fonksiyon tanımlaması yaparken diğerinde daha kolay bir şekilde lambda isimsiz filtresi kullanıldı."
   ]
  },
  {
   "cell_type": "code",
   "execution_count": 3,
   "metadata": {},
   "outputs": [
    {
     "name": "stdout",
     "output_type": "stream",
     "text": [
      "4\n",
      "30\n"
     ]
    }
   ],
   "source": [
    "# default değer verme\n",
    "\n",
    "double = lambda x = 2: x * 2\n",
    "\n",
    "print(double())\n",
    "print(double(15))"
   ]
  },
  {
   "cell_type": "markdown",
   "metadata": {},
   "source": [
    "Bu örnekte ise lambda kullanımında  default değer kullandım. Çıktı alırken herhangi bir x değeri verilmemesi durumunda x 2 kabul edilerek işleme sokuldu."
   ]
  },
  {
   "cell_type": "code",
   "execution_count": 4,
   "metadata": {},
   "outputs": [
    {
     "name": "stdout",
     "output_type": "stream",
     "text": [
      "7\n"
     ]
    }
   ],
   "source": [
    "Min = lambda x, y:x if x < y else y\n",
    "\n",
    "print(Min(9,7))"
   ]
  },
  {
   "cell_type": "markdown",
   "metadata": {},
   "source": [
    "Burada dikkat edilmesi gereken kısım; if karar yapısında koşul sağlanıyorsa koşulun soluna, sağlanmıyorsa koşulun sağına istenilen ifade yazılır."
   ]
  },
  {
   "cell_type": "code",
   "execution_count": 6,
   "metadata": {},
   "outputs": [
    {
     "name": "stdout",
     "output_type": "stream",
     "text": [
      "[[1, 2, 3, 6, 8], [1, 2, 4, 6, 9], [0, 1, 3, 5, 7]]\n"
     ]
    }
   ],
   "source": [
    "# İç içe verilmiş olan listeleri lambda fonksiyonu ile sıralı hale getirelim.\n",
    "my_list = [[2, 6, 8, 3, 1], [2, 6, 4, 1, 9], [0, 7, 3, 5, 1]]\n",
    "\n",
    "sortedList = lambda use_list: (sorted(i) for i in use_list)\n",
    "\n",
    "print(list(sortedList(my_list)))"
   ]
  },
  {
   "cell_type": "code",
   "execution_count": 7,
   "metadata": {},
   "outputs": [
    {
     "name": "stdout",
     "output_type": "stream",
     "text": [
      "[[1, 2, 3, 6, 8], [1, 2, 4, 6, 9], [0, 1, 3, 5, 7]]\n"
     ]
    }
   ],
   "source": [
    "my_list = [[2, 6, 8, 3, 1], [2, 6, 4, 1, 9], [0, 7, 3, 5, 1]]\n",
    "\n",
    "def sortedList(liste):\n",
    "    for index, item in enumerate (my_list):     # index ve item değerinin birlikte kullanılması için enumerate kullandık. item liste içindeki değerleri, indexte listedeki konumlarını belirtir.\n",
    "        my_list[index] = sorted(item)\n",
    "\n",
    "    return my_list\n",
    "\n",
    "print(sortedList(my_list)) "
   ]
  },
  {
   "cell_type": "code",
   "execution_count": 8,
   "metadata": {},
   "outputs": [
    {
     "name": "stdout",
     "output_type": "stream",
     "text": [
      "[10, 70, 90, 40, 30]\n"
     ]
    }
   ],
   "source": [
    "multiplyList = lambda x: (i*10 for i in x)\n",
    "\n",
    "print(list(multiplyList([1, 7, 9, 4, 3])))"
   ]
  },
  {
   "cell_type": "markdown",
   "metadata": {},
   "source": [
    "**filter()**\n",
    "\n",
    "Parametre olarak bir lambda yani isimsiz bir fonksiyon ve bir liste alır.\n",
    "\n",
    "Verilen ifadeye uygun elemanları işleme alır ve yeni bir liste döner."
   ]
  },
  {
   "cell_type": "code",
   "execution_count": 10,
   "metadata": {},
   "outputs": [
    {
     "name": "stdout",
     "output_type": "stream",
     "text": [
      "[1, 43, 5, 7, 77]\n"
     ]
    }
   ],
   "source": [
    "# Liste içerisindeki tek sayıları alın.\n",
    "my_list = [1, 2, 43, 5, 6, 7, 34, 0, 77]\n",
    "\n",
    "print(list(filter(lambda x: x % 2 != 0, my_list)))"
   ]
  },
  {
   "cell_type": "markdown",
   "metadata": {},
   "source": [
    "**map()**\n",
    "\n",
    "Parametre olarak bir lambda yani isimsiz bir fonksiyon ve bir liste alır. \n",
    "\n",
    "Eğer içeride veilen ifade bir şeyin kontrolü şeklinde ise bu ifade sağlanmak zorunda değildir. Koşulun sağlanma durumuna bağlı olarak True ve false değer döndürür.\n",
    "\n",
    "Eğer bir işlem yapılıyorsa bu işlemin sonucu çıktı olarak döner."
   ]
  },
  {
   "cell_type": "code",
   "execution_count": 11,
   "metadata": {},
   "outputs": [
    {
     "name": "stdout",
     "output_type": "stream",
     "text": [
      "[True, False, True, True, False, True, False, False, True]\n"
     ]
    }
   ],
   "source": [
    "my_list = [1, 2, 43, 5, 6, 7, 34, 0, 77]\n",
    "\n",
    "print(list(map(lambda x:x % 2 != 0, my_list)))"
   ]
  },
  {
   "cell_type": "code",
   "execution_count": 12,
   "metadata": {},
   "outputs": [
    {
     "name": "stdout",
     "output_type": "stream",
     "text": [
      "[1, 4, 16, 25, 36, 49, 9, 0, 49]\n"
     ]
    }
   ],
   "source": [
    "# map ile her elemanın karesini alan kod bloğunu yazalım.\n",
    "\n",
    "my_list = [1, 2, 4, 5, 6, 7, 3, 0, 7]\n",
    "\n",
    "print(list(map(lambda x: x**2,  my_list)))"
   ]
  },
  {
   "cell_type": "code",
   "execution_count": 14,
   "metadata": {},
   "outputs": [
    {
     "name": "stdout",
     "output_type": "stream",
     "text": [
      "[6, 21, 27]\n"
     ]
    }
   ],
   "source": [
    "# map ile liste içindeki her ilk elemanın 3 katını döndürelim.\n",
    "my_list = [[2, 6, 8, 3, 1], [7, 6, 4, 1, 9], [9, 7, 3, 5, 1]]\n",
    "\n",
    "print(list(map(lambda x:x[0]*3, my_list )))"
   ]
  },
  {
   "cell_type": "code",
   "execution_count": 17,
   "metadata": {},
   "outputs": [
    {
     "name": "stdout",
     "output_type": "stream",
     "text": [
      "[2, 3, 5, 4]\n"
     ]
    }
   ],
   "source": [
    "# filter ile [20,30,15,10,13,50,40] listesi çerisinde >=20 olanları bulup\n",
    "# map ile yeni listedki değerleri integer bölme ile 10 a bölelim, oluşan listeyi ekrana bastıralım.\n",
    "\n",
    "# my_list = [20,30,15,10,13,50,40] \n",
    "\n",
    "# filter(lambda x: x>=20, [20,30,15,10,13,50,40])\n",
    "\n",
    "print(list(map(lambda x: x//10, filter(lambda x: x>=20, [20,30,15,10,13,50,40]))))"
   ]
  },
  {
   "cell_type": "code",
   "execution_count": 18,
   "metadata": {},
   "outputs": [
    {
     "name": "stdout",
     "output_type": "stream",
     "text": [
      "[2, 3, 5, 4]\n"
     ]
    }
   ],
   "source": [
    "my_list = [20,30,15,10,13,50,40] \n",
    "\n",
    "filter_list = filter(lambda x: x>=20, [20,30,15,10,13,50,40])\n",
    "\n",
    "print(list(map(lambda x: x//10, filter_list)))"
   ]
  },
  {
   "cell_type": "markdown",
   "metadata": {},
   "source": [
    "Bu soruda ilk önce parçalayarak çözmek gerekir. Ardından işlemi kısa tutmak için parçalar tek bir satırda yukarıdaki gibi de yazılabilir."
   ]
  },
  {
   "cell_type": "code",
   "execution_count": 19,
   "metadata": {},
   "outputs": [
    {
     "name": "stdout",
     "output_type": "stream",
     "text": [
      "[34, 2]\n"
     ]
    }
   ],
   "source": [
    "# Listenin içerisinde yer alan integer veri tipindeki elemanları bulalım.\n",
    "\n",
    "my_list = [\"Beyza\", 34, 2, 89.6, True, \"a\"]\n",
    "\n",
    "print(list(filter(lambda x: type(x)== int, my_list)))"
   ]
  },
  {
   "cell_type": "markdown",
   "metadata": {},
   "source": [
    "Eğer liste içerisinde belirli bir kurala uyan elemanları bulmamız isteniyorsa direk filter kullanmamız gerekir. Burada map kullanmış olsaydık true false şeklinde değer döndürürdü. Yani değer integer mı diye tüm değerler kontrol edilir."
   ]
  },
  {
   "cell_type": "code",
   "execution_count": 21,
   "metadata": {},
   "outputs": [
    {
     "name": "stdout",
     "output_type": "stream",
     "text": [
      "['EMRE', 'CEYDA', 'EREN', 'İLKAY', 'BUKET', 'AYŞE', 'NURCAN']\n"
     ]
    }
   ],
   "source": [
    "# Liste içerisindeki isimleri büyük harfe çevirelim.\n",
    "my_list = [\"Emre\", \"Ceyda\",\"Eren\", \"İlkay\", \"Buket\", \"Ayşe\", \"Nurcan\"]\n",
    "\n",
    "print(list(map(lambda x: x.upper(), my_list)))"
   ]
  }
 ],
 "metadata": {
  "kernelspec": {
   "display_name": "Python 3.10.5 32-bit",
   "language": "python",
   "name": "python3"
  },
  "language_info": {
   "codemirror_mode": {
    "name": "ipython",
    "version": 3
   },
   "file_extension": ".py",
   "mimetype": "text/x-python",
   "name": "python",
   "nbconvert_exporter": "python",
   "pygments_lexer": "ipython3",
   "version": "3.10.5"
  },
  "orig_nbformat": 4,
  "vscode": {
   "interpreter": {
    "hash": "3a76228ad2be0688f8ad5f22cd5a5c34eb0a8c6f0341e9e6e30d2b6319109a87"
   }
  }
 },
 "nbformat": 4,
 "nbformat_minor": 2
}
