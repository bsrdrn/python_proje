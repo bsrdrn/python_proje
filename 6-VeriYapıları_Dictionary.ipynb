{
 "cells": [
  {
   "cell_type": "markdown",
   "metadata": {},
   "source": [
    "**Dictionary**\n",
    "\n",
    "* Index ile erişilemezler. Unordered yani sıralı değildir.\n",
    "* key value mantığında tutulur. Değerlere key üzerinden erişilir.\n",
    "* Dictionary değiştirilebilir.\n",
    "* { } içerisinde tanımlanır. key value çifti virgüller ile ayrılır.\n",
    "* key değerleri uniqe olacak ancak taşıdığı değerler dublicate olabilir.\n"
   ]
  },
  {
   "cell_type": "markdown",
   "metadata": {},
   "source": [
    "**Dİctionary OLuşturma Yöntemleri**\n",
    "\n",
    "* { } ile boş bir sözlük oluşturulur.\n",
    "* dict ifadesei ile de oluşturulabilir."
   ]
  },
  {
   "cell_type": "code",
   "execution_count": 1,
   "metadata": {},
   "outputs": [
    {
     "data": {
      "text/plain": [
       "{'name': 'Büşranur',\n",
       " 'company': 'Turkcell',\n",
       " 'age': 25,\n",
       " 'isFemale': True,\n",
       " 'salary': 10000.5}"
      ]
     },
     "execution_count": 1,
     "metadata": {},
     "output_type": "execute_result"
    }
   ],
   "source": [
    "my_dict = {\n",
    "    \"name\":\"Büşranur\", \n",
    "    \"company\":\"Turkcell\",\n",
    "    \"age\":25,\n",
    "    \"isFemale\":True,\n",
    "    \"salary\":10000.50\n",
    "    }\n",
    "\n",
    "my_dict"
   ]
  },
  {
   "cell_type": "code",
   "execution_count": 2,
   "metadata": {},
   "outputs": [
    {
     "data": {
      "text/plain": [
       "{'name': 'Büşranur',\n",
       " 'company': 'Turkcell',\n",
       " 'title': ['AI & ML Engineer', 'Data Scientist', 'Backend Developer'],\n",
       " 'age': 25,\n",
       " 'isFemale': True,\n",
       " 'salary': 10000.5}"
      ]
     },
     "execution_count": 2,
     "metadata": {},
     "output_type": "execute_result"
    }
   ],
   "source": [
    "my_dict = {\n",
    "    \"name\":\"Büşranur\", \n",
    "    \"company\":\"Turkcell\",\n",
    "    \"title\":[\"AI & ML Engineer\", \"Data Scientist\", \"Backend Developer\"],\n",
    "    \"age\":25,\n",
    "    \"isFemale\":True,\n",
    "    \"salary\":10000.50\n",
    "    }\n",
    "\n",
    "my_dict\n",
    "\n",
    "# Genel kullanım bu şekildedir."
   ]
  },
  {
   "cell_type": "code",
   "execution_count": 3,
   "metadata": {},
   "outputs": [
    {
     "data": {
      "text/plain": [
       "{'first_name': 'Menekşe', 'last_name': 'Avcı'}"
      ]
     },
     "execution_count": 3,
     "metadata": {},
     "output_type": "execute_result"
    }
   ],
   "source": [
    "my_dict = dict({\"first_name\":\"Menekşe\",\"last_name\":\"Avcı\"})\n",
    "\n",
    "my_dict"
   ]
  },
  {
   "cell_type": "code",
   "execution_count": 4,
   "metadata": {},
   "outputs": [
    {
     "data": {
      "text/plain": [
       "dict"
      ]
     },
     "execution_count": 4,
     "metadata": {},
     "output_type": "execute_result"
    }
   ],
   "source": [
    "type(my_dict)"
   ]
  },
  {
   "cell_type": "markdown",
   "metadata": {},
   "source": [
    "---"
   ]
  },
  {
   "cell_type": "markdown",
   "metadata": {},
   "source": [
    "**Sözlük Elemanlarına Erişim**\n",
    "\n",
    "* [ ] içerisinde key değerini vererek \n",
    "* get( ) içerisinde key değerini vererek\n",
    "\n",
    "erişebiliriz.\n"
   ]
  },
  {
   "cell_type": "code",
   "execution_count": 5,
   "metadata": {},
   "outputs": [
    {
     "data": {
      "text/plain": [
       "{'blue': 'mavi',\n",
       " 'red': 'kırmızı',\n",
       " 'yellow': 'sarı',\n",
       " 'pink': 'pembe',\n",
       " 'green': 'yeşil'}"
      ]
     },
     "execution_count": 5,
     "metadata": {},
     "output_type": "execute_result"
    }
   ],
   "source": [
    "colors = {\n",
    "    \"blue\":\"mavi\",\n",
    "    \"red\":\"kırmızı\",\n",
    "    \"yellow\":\"sarı\",\n",
    "    \"pink\":\"pembe\",\n",
    "    \"green\":\"yeşil\",\n",
    "}\n",
    "\n",
    "colors"
   ]
  },
  {
   "cell_type": "code",
   "execution_count": 6,
   "metadata": {},
   "outputs": [
    {
     "data": {
      "text/plain": [
       "'pembe'"
      ]
     },
     "execution_count": 6,
     "metadata": {},
     "output_type": "execute_result"
    }
   ],
   "source": [
    "colors[\"pink\"]"
   ]
  },
  {
   "cell_type": "code",
   "execution_count": 7,
   "metadata": {},
   "outputs": [
    {
     "data": {
      "text/plain": [
       "'mavi'"
      ]
     },
     "execution_count": 7,
     "metadata": {},
     "output_type": "execute_result"
    }
   ],
   "source": [
    "colors.get(\"blue\")"
   ]
  },
  {
   "cell_type": "code",
   "execution_count": 8,
   "metadata": {},
   "outputs": [
    {
     "data": {
      "text/plain": [
       "dict_keys(['blue', 'red', 'yellow', 'pink', 'green'])"
      ]
     },
     "execution_count": 8,
     "metadata": {},
     "output_type": "execute_result"
    }
   ],
   "source": [
    "# sözlükte yer alan tüm key değerlerini ekrana basmak istersek;\n",
    "\n",
    "colors.keys()"
   ]
  },
  {
   "cell_type": "code",
   "execution_count": 9,
   "metadata": {},
   "outputs": [
    {
     "data": {
      "text/plain": [
       "dict_values(['mavi', 'kırmızı', 'sarı', 'pembe', 'yeşil'])"
      ]
     },
     "execution_count": 9,
     "metadata": {},
     "output_type": "execute_result"
    }
   ],
   "source": [
    "# sözlükte yer alan tüm value değerlerini ekrana basmak istersek;\n",
    "\n",
    "colors.values()"
   ]
  },
  {
   "cell_type": "code",
   "execution_count": 10,
   "metadata": {},
   "outputs": [
    {
     "data": {
      "text/plain": [
       "dict_items([('blue', 'mavi'), ('red', 'kırmızı'), ('yellow', 'sarı'), ('pink', 'pembe'), ('green', 'yeşil')])"
      ]
     },
     "execution_count": 10,
     "metadata": {},
     "output_type": "execute_result"
    }
   ],
   "source": [
    "# sözlükte yer alan tüm key value çiftlerine erişmek için ise;\n",
    "\n",
    "colors.items()"
   ]
  },
  {
   "cell_type": "markdown",
   "metadata": {},
   "source": [
    "**Döngü ile Erişim**"
   ]
  },
  {
   "cell_type": "code",
   "execution_count": 6,
   "metadata": {},
   "outputs": [
    {
     "name": "stdout",
     "output_type": "stream",
     "text": [
      "blue\n",
      "red\n",
      "yellow\n",
      "pink\n",
      "green\n"
     ]
    }
   ],
   "source": [
    "colors = {\n",
    "    \"blue\":\"mavi\",\n",
    "    \"red\":\"kırmızı\",\n",
    "    \"yellow\":\"sarı\",\n",
    "    \"pink\":\"pembe\",\n",
    "    \"green\":\"yeşil\",\n",
    "}\n",
    "\n",
    "for i in colors.keys():\n",
    "    print(i)"
   ]
  },
  {
   "cell_type": "code",
   "execution_count": 12,
   "metadata": {},
   "outputs": [
    {
     "name": "stdout",
     "output_type": "stream",
     "text": [
      "mavi\n",
      "kırmızı\n",
      "sarı\n",
      "pembe\n",
      "yeşil\n"
     ]
    }
   ],
   "source": [
    "for i in colors.values():\n",
    "    print(i)"
   ]
  },
  {
   "cell_type": "code",
   "execution_count": 8,
   "metadata": {},
   "outputs": [
    {
     "name": "stdout",
     "output_type": "stream",
     "text": [
      "blue\n",
      "red\n",
      "yellow\n",
      "pink\n",
      "green\n"
     ]
    }
   ],
   "source": [
    "for i in colors:\n",
    "    print(i)"
   ]
  },
  {
   "cell_type": "code",
   "execution_count": 13,
   "metadata": {},
   "outputs": [
    {
     "name": "stdout",
     "output_type": "stream",
     "text": [
      "('blue', 'mavi')\n",
      "('red', 'kırmızı')\n",
      "('yellow', 'sarı')\n",
      "('pink', 'pembe')\n",
      "('green', 'yeşil')\n"
     ]
    }
   ],
   "source": [
    "for i in colors.items():\n",
    "    print(i)"
   ]
  },
  {
   "cell_type": "code",
   "execution_count": 14,
   "metadata": {},
   "outputs": [
    {
     "name": "stdout",
     "output_type": "stream",
     "text": [
      "key: blue --- value: mavi\n",
      "key: red --- value: kırmızı\n",
      "key: yellow --- value: sarı\n",
      "key: pink --- value: pembe\n",
      "key: green --- value: yeşil\n"
     ]
    }
   ],
   "source": [
    "for i in colors.items():\n",
    "    print(f\"key: {i[0]} --- value: {i[1]}\")\n",
    "\n",
    "# key değeri 0'ı value değerleri ise 1 i temsil eder."
   ]
  },
  {
   "cell_type": "code",
   "execution_count": 15,
   "metadata": {},
   "outputs": [
    {
     "name": "stdout",
     "output_type": "stream",
     "text": [
      "Sözlüğün uzunluğu:  5\n"
     ]
    }
   ],
   "source": [
    "print(\"Sözlüğün uzunluğu: \", len(colors))\n",
    "\n",
    "# key-value çifti sayısını verir."
   ]
  },
  {
   "cell_type": "markdown",
   "metadata": {},
   "source": [
    "**Sözlüğe Eleman Ekleme**\n",
    "\n",
    "* key-value atama işlemi ile\n",
    "* update( ) metodu ile eklenebilir."
   ]
  },
  {
   "cell_type": "code",
   "execution_count": 16,
   "metadata": {},
   "outputs": [
    {
     "data": {
      "text/plain": [
       "{1990: 'Friends',\n",
       " 1991: 'Person of Interest',\n",
       " 1992: 'Heartland',\n",
       " 1993: 'Doctor Who',\n",
       " 1994: 'Merlin'}"
      ]
     },
     "execution_count": 16,
     "metadata": {},
     "output_type": "execute_result"
    }
   ],
   "source": [
    "movies = {\n",
    "    1990:\"Friends\",\n",
    "    1991:\"Person of Interest\",\n",
    "    1992:\"Heartland\",\n",
    "    1993:\"Doctor Who\",\n",
    "    1994:\"Merlin\",\n",
    "}\n",
    "\n",
    "movies"
   ]
  },
  {
   "cell_type": "code",
   "execution_count": 17,
   "metadata": {},
   "outputs": [
    {
     "data": {
      "text/plain": [
       "{1990: 'Friends',\n",
       " 1991: 'Person of Interest',\n",
       " 1992: 'Heartland',\n",
       " 1993: 'Doctor Who',\n",
       " 1994: 'Merlin',\n",
       " 1995: 'Harry Potter'}"
      ]
     },
     "execution_count": 17,
     "metadata": {},
     "output_type": "execute_result"
    }
   ],
   "source": [
    "movies[1995] = \"Harry Potter\"\n",
    "\n",
    "movies\n",
    "\n",
    "# Mevcutta var olmayan bir değer eklendi."
   ]
  },
  {
   "cell_type": "code",
   "execution_count": 18,
   "metadata": {},
   "outputs": [
    {
     "data": {
      "text/plain": [
       "{1990: 'Friends',\n",
       " 1991: 'Person of Interest',\n",
       " 1992: 'Heartland',\n",
       " 1993: 'Doctor Who',\n",
       " 1994: 'Snowpiercer',\n",
       " 1995: 'Harry Potter'}"
      ]
     },
     "execution_count": 18,
     "metadata": {},
     "output_type": "execute_result"
    }
   ],
   "source": [
    "movies[1994] = \"Snowpiercer\"\n",
    "\n",
    "movies\n",
    "\n",
    "# Mevcutta var olan bir değer değiştirildi."
   ]
  },
  {
   "cell_type": "code",
   "execution_count": 19,
   "metadata": {},
   "outputs": [
    {
     "data": {
      "text/plain": [
       "{1990: 'Friends',\n",
       " 1991: 'Person of Interest',\n",
       " 1992: 'Heartland',\n",
       " 1993: 'The Queen Gambit',\n",
       " 1994: 'Snowpiercer',\n",
       " 1995: 'Harry Potter',\n",
       " 1996: 'Squid Game'}"
      ]
     },
     "execution_count": 19,
     "metadata": {},
     "output_type": "execute_result"
    }
   ],
   "source": [
    "movies.update({1996:\"Squid Game\", 1993: \"The Queen Gambit\"})\n",
    "\n",
    "movies\n",
    "\n",
    "# update ile mevcutta var olan bir alana ekleme yaparken mevcut değeri değiştirir, değer yok ise yeni olarak ekler."
   ]
  },
  {
   "cell_type": "markdown",
   "metadata": {},
   "source": [
    "**Silme İşlemleri**\n",
    "\n",
    "* del key \n",
    "* clear\n",
    "* del dict_name\n",
    "* popitem( )\n",
    "* pop(key)"
   ]
  },
  {
   "cell_type": "code",
   "execution_count": 21,
   "metadata": {},
   "outputs": [
    {
     "data": {
      "text/plain": [
       "{'name': 'Büşra',\n",
       " 'TCKN': 212345621,\n",
       " 'start_date': 2022,\n",
       " 'title': 'AI & ML Engineer'}"
      ]
     },
     "execution_count": 21,
     "metadata": {},
     "output_type": "execute_result"
    }
   ],
   "source": [
    "personel_info = {\n",
    "    \"name\":\"Büşra\",\n",
    "    \"TCKN\":212345621,\n",
    "    \"start_date\":2022,\n",
    "    \"title\":\"AI & ML Engineer\"\n",
    "}\n",
    "\n",
    "personel_info"
   ]
  },
  {
   "cell_type": "code",
   "execution_count": 22,
   "metadata": {},
   "outputs": [
    {
     "data": {
      "text/plain": [
       "{'name': 'Büşra', 'TCKN': 212345621, 'title': 'AI & ML Engineer'}"
      ]
     },
     "execution_count": 22,
     "metadata": {},
     "output_type": "execute_result"
    }
   ],
   "source": [
    "# del key kullanımı; \"Silinmesi istenilen key değeri için key-value çifti silinir.\"\n",
    "del personel_info[\"start_date\"]\n",
    "\n",
    "personel_info"
   ]
  },
  {
   "cell_type": "code",
   "execution_count": 24,
   "metadata": {},
   "outputs": [
    {
     "data": {
      "text/plain": [
       "{}"
      ]
     },
     "execution_count": 24,
     "metadata": {},
     "output_type": "execute_result"
    }
   ],
   "source": [
    "# clear() kullanımı; \"Dictionary içerisindeki tüm elemanları siler.\"\n",
    "personel_info.clear()\n",
    "\n",
    "personel_info"
   ]
  },
  {
   "cell_type": "code",
   "execution_count": 25,
   "metadata": {},
   "outputs": [
    {
     "ename": "NameError",
     "evalue": "name 'personel_info' is not defined",
     "output_type": "error",
     "traceback": [
      "\u001b[1;31m---------------------------------------------------------------------------\u001b[0m",
      "\u001b[1;31mNameError\u001b[0m                                 Traceback (most recent call last)",
      "Cell \u001b[1;32mIn [25], line 4\u001b[0m\n\u001b[0;32m      1\u001b[0m \u001b[39m# del dict_name kulanımı; \u001b[39;00m\n\u001b[0;32m      2\u001b[0m \u001b[39mdel\u001b[39;00m personel_info\n\u001b[1;32m----> 4\u001b[0m personel_info\n",
      "\u001b[1;31mNameError\u001b[0m: name 'personel_info' is not defined"
     ]
    }
   ],
   "source": [
    "# del dict_name kulanımı; \"Dictionary'i tamamen siler.\"\n",
    "del personel_info\n",
    "\n",
    "personel_info"
   ]
  },
  {
   "cell_type": "code",
   "execution_count": 26,
   "metadata": {},
   "outputs": [
    {
     "data": {
      "text/plain": [
       "{'name': 'Büşra',\n",
       " 'TCKN': 212345621,\n",
       " 'start_date': 2022,\n",
       " 'title': 'AI & ML Engineer'}"
      ]
     },
     "execution_count": 26,
     "metadata": {},
     "output_type": "execute_result"
    }
   ],
   "source": [
    "personel_info = {\n",
    "    \"name\":\"Büşra\",\n",
    "    \"TCKN\":212345621,\n",
    "    \"start_date\":2022,\n",
    "    \"title\":\"AI & ML Engineer\"\n",
    "}\n",
    "\n",
    "personel_info"
   ]
  },
  {
   "cell_type": "code",
   "execution_count": 27,
   "metadata": {},
   "outputs": [
    {
     "data": {
      "text/plain": [
       "{'name': 'Büşra', 'TCKN': 212345621, 'start_date': 2022}"
      ]
     },
     "execution_count": 27,
     "metadata": {},
     "output_type": "execute_result"
    }
   ],
   "source": [
    "# popitem() kullanımı; \"son eklenen elemanı siler. Bu işlemi son eleman kalana kadar yapabilirsiniz ancak isterği boş olan bir dictionary de popitem kullanımı hataya yol açar\"\n",
    "personel_info.popitem()\n",
    "\n",
    "personel_info"
   ]
  },
  {
   "cell_type": "code",
   "execution_count": 6,
   "metadata": {},
   "outputs": [
    {
     "data": {
      "text/plain": [
       "{'dil': 'language', 'masa': 'table'}"
      ]
     },
     "execution_count": 6,
     "metadata": {},
     "output_type": "execute_result"
    }
   ],
   "source": [
    "ing_sözlük = {\"dil\": \"language\", \"bilgisayar\": \"computer\", \"masa\": \"table\"}\n",
    "ing_sözlük.pop(\"bilgisayar\")\n",
    "\n",
    "ing_sözlük"
   ]
  },
  {
   "cell_type": "code",
   "execution_count": 28,
   "metadata": {},
   "outputs": [
    {
     "data": {
      "text/plain": [
       "{'name': 'Büşra', 'start_date': 2022}"
      ]
     },
     "execution_count": 28,
     "metadata": {},
     "output_type": "execute_result"
    }
   ],
   "source": [
    "# pop() kullanımı; \"Parantez içerisinde silinmesini istediğimiz elemanı siler.\"\n",
    "personel_info.pop(\"TCKN\")\n",
    "\n",
    "personel_info"
   ]
  },
  {
   "cell_type": "markdown",
   "metadata": {},
   "source": [
    "**Bir anahtarın varlığını kontrol etme**\n"
   ]
  },
  {
   "cell_type": "code",
   "execution_count": 29,
   "metadata": {},
   "outputs": [
    {
     "data": {
      "text/plain": [
       "{'Adana': 1,\n",
       " 'Antalya': 7,\n",
       " 'Kayseri': 38,\n",
       " 'İzmir': 35,\n",
       " 'Giresun': 28,\n",
       " 'İstanbul': 34}"
      ]
     },
     "execution_count": 29,
     "metadata": {},
     "output_type": "execute_result"
    }
   ],
   "source": [
    "cities = {\"Adana\":1, \"Antalya\":7, \"Kayseri\":38, \"İzmir\":35, \"Giresun\":28}\n",
    "\n",
    "if \"İstanbul\" not in cities.keys():\n",
    "    cities[\"İstanbul\"] = 34\n",
    "\n",
    "cities"
   ]
  },
  {
   "cell_type": "markdown",
   "metadata": {},
   "source": [
    "**İki Sözlüğü Birleştirme**\n",
    "\n",
    "* update\n",
    "* ** ile"
   ]
  },
  {
   "cell_type": "code",
   "execution_count": 31,
   "metadata": {},
   "outputs": [
    {
     "name": "stdout",
     "output_type": "stream",
     "text": [
      "{'Adana': 1, 'Antalya': 7, 'Kayseri': 38, 'İzmir': 35, 'Giresun': 28, 'Manisa': 45, 'Van': 65}\n",
      "{'Manisa': 45, 'Van': 65}\n"
     ]
    }
   ],
   "source": [
    "# update() kullanımı ile;\n",
    "cities = {\"Adana\":1, \"Antalya\":7, \"Kayseri\":38, \"İzmir\":35, \"Giresun\":28}\n",
    "cities2 = {\"Manisa\":45, \"Van\":65}\n",
    "\n",
    "cities.update(cities2)\n",
    "\n",
    "print(cities)\n",
    "print(cities2)"
   ]
  },
  {
   "cell_type": "code",
   "execution_count": 33,
   "metadata": {},
   "outputs": [
    {
     "data": {
      "text/plain": [
       "{'Adana': 1,\n",
       " 'Antalya': 7,\n",
       " 'Kayseri': 38,\n",
       " 'İzmir': 35,\n",
       " 'Giresun': 28,\n",
       " 'Manisa': 45,\n",
       " 'Van': 65}"
      ]
     },
     "execution_count": 33,
     "metadata": {},
     "output_type": "execute_result"
    }
   ],
   "source": [
    "# ** kullanımı ile;\n",
    "cities = {\"Adana\":1, \"Antalya\":7, \"Kayseri\":38, \"İzmir\":35, \"Giresun\":28}\n",
    "cities2 = {\"Manisa\":45, \"Van\":65}\n",
    "\n",
    "new_cities = {**cities, **cities2}\n",
    "new_cities"
   ]
  },
  {
   "cell_type": "code",
   "execution_count": 34,
   "metadata": {},
   "outputs": [
    {
     "data": {
      "text/plain": [
       "{'Adana': 1,\n",
       " 'Antalya': 7,\n",
       " 'Kayseri': 38,\n",
       " 'İzmir': 35,\n",
       " 'Giresun': 28,\n",
       " 'Manisa': 45,\n",
       " 'Van': 65}"
      ]
     },
     "execution_count": 34,
     "metadata": {},
     "output_type": "execute_result"
    }
   ],
   "source": [
    "cities = {\"Adana\":2, \"Antalya\":7, \"Kayseri\":38, \"İzmir\":35, \"Giresun\":28}\n",
    "cities2 = {\"Manisa\":45, \"Van\":65, \"Adana\":1}\n",
    "\n",
    "new_cities = {**cities, **cities2}\n",
    "new_cities\n",
    "\n",
    "# cities içerisindeki değerlere cities2'yi eklemeye çalıştığımız için cities2 deki her değer ilk olarak cities'de varmı diye kontrol eder.\n",
    "# Yoksa sona eklerken, var ise value değerini cities2'de ki değer ile günceller."
   ]
  },
  {
   "cell_type": "markdown",
   "metadata": {},
   "source": [
    "**Dictionary Kopyalama İşlemleri**\n",
    "\n",
    "* copy()    ----> bu metodlarda yapılan değişikliklerden etkilenmeyecek yeni bir dictionary oluşturulur.\n",
    "* dict()    ----> bu metodlarda yapılan değişikliklerden etkilenmeyecek yeni bir dictionary oluşturulur.\n",
    "* = operatörü ----> atama operatörü ile yapılan kopyalama da ise yapılan değişiklikler her iki ana ve kopyalanan dictionary içerisinde değişiklikliğe yol açar."
   ]
  },
  {
   "cell_type": "code",
   "execution_count": 36,
   "metadata": {},
   "outputs": [],
   "source": [
    "sports = {\n",
    "    1: \"Voleybol\",\n",
    "    2: \"Basketbol\",\n",
    "    3: \"Tenis\",\n",
    "    4: \"Yüzme\",\n",
    "    5: \"Futbol\"\n",
    "}"
   ]
  },
  {
   "cell_type": "code",
   "execution_count": 37,
   "metadata": {},
   "outputs": [
    {
     "name": "stdout",
     "output_type": "stream",
     "text": [
      "{1: 'Voleybol', 2: 'Basketbol', 3: 'Tenis', 4: 'Yüzme', 5: 'Futbol', 6: 'Oryantiring'}\n",
      "{1: 'Voleybol', 2: 'Basketbol', 3: 'Tenis', 4: 'Yüzme', 5: 'Futbol'}\n"
     ]
    }
   ],
   "source": [
    "# copy ile  \n",
    "copy_sports = sports.copy()\n",
    "\n",
    "copy_sports[6] = \"Oryantiring\"\n",
    "\n",
    "print(copy_sports)\n",
    "print(sports)\n"
   ]
  },
  {
   "cell_type": "code",
   "execution_count": 38,
   "metadata": {},
   "outputs": [
    {
     "name": "stdout",
     "output_type": "stream",
     "text": [
      "{1: 'Voleybol', 2: 'Basketbol', 3: 'Tenis', 4: 'Yüzme', 5: 'Futbol', 6: 'Oryantiring'}\n",
      "{1: 'Voleybol', 2: 'Basketbol', 3: 'Tenis', 4: 'Yüzme', 5: 'Futbol', 6: 'Oryantiring'}\n"
     ]
    }
   ],
   "source": [
    "# = operatörü ile\n",
    "new_sports = sports\n",
    "\n",
    "new_sports[6] = \"Oryantiring\"\n",
    "\n",
    "print(new_sports)\n",
    "print(sports)\n"
   ]
  },
  {
   "cell_type": "code",
   "execution_count": 11,
   "metadata": {},
   "outputs": [
    {
     "name": "stdout",
     "output_type": "stream",
     "text": [
      "Hava durumu:  {'İstanbul': 'yağmurlu', 'Adana': 'güneşli', 'İzmir': 'bulutlu', 'Mersin': 'sisli'}\n",
      "Yeni hava durumu:  {'İstanbul': 'yağmurlu', 'Adana': 'güneşli', 'İzmir': 'bulutlu', 'Mersin': 'sisli'}\n"
     ]
    }
   ],
   "source": [
    "hava_durumu = {\"İstanbul\": \"yağmurlu\", \"Adana\": \"güneşli\", \"İzmir\": \"bulutlu\"}\n",
    "\n",
    "yeni_hava_durumu = hava_durumu\n",
    "yeni_hava_durumu[\"Mersin\"] = \"sisli\"\n",
    "\n",
    "print(\"Hava durumu: \", hava_durumu)\n",
    "print(\"Yeni hava durumu: \", yeni_hava_durumu)"
   ]
  },
  {
   "cell_type": "code",
   "execution_count": 39,
   "metadata": {},
   "outputs": [
    {
     "name": "stdout",
     "output_type": "stream",
     "text": [
      "{1: 'Voleybol', 2: 'Basketbol', 3: 'Tenis', 4: 'Yüzme', 5: 'Futbol', 6: 'Oryantiring'}\n",
      "{1: 'Voleybol', 2: 'Basketbol', 3: 'Tenis', 4: 'Yüzme', 5: 'Futbol'}\n"
     ]
    }
   ],
   "source": [
    "# dict() ile\n",
    "sports = {\n",
    "    1: \"Voleybol\",\n",
    "    2: \"Basketbol\",\n",
    "    3: \"Tenis\",\n",
    "    4: \"Yüzme\",\n",
    "    5: \"Futbol\"\n",
    "}\n",
    "\n",
    "dict_sports = dict(sports)\n",
    "dict_sports[6] = \"Oryantiring\"\n",
    "\n",
    "print(dict_sports)\n",
    "print(sports)"
   ]
  },
  {
   "cell_type": "markdown",
   "metadata": {},
   "source": [
    "---"
   ]
  },
  {
   "cell_type": "markdown",
   "metadata": {},
   "source": [
    "**İç İçe Sözlükler**"
   ]
  },
  {
   "cell_type": "code",
   "execution_count": 42,
   "metadata": {},
   "outputs": [
    {
     "data": {
      "text/plain": [
       "{'name': 'Büşra',\n",
       " 'GSM': '5555558',\n",
       " 'email': 'duranbusra178@gmail.com',\n",
       " 'adres': {'Ankara': 'Kızılay', 'İstanbul': 'Pendik', 'iş': 'Maltepe'}}"
      ]
     },
     "execution_count": 42,
     "metadata": {},
     "output_type": "execute_result"
    }
   ],
   "source": [
    "my_info = {\n",
    "    \"name\":\"Büşra\",\n",
    "    \"GSM\":\"5555558\",\n",
    "    \"email\":\"duranbusra178@gmail.com\",\n",
    "    \"adres\":{\"Ankara\":\"Kızılay\",\"İstanbul\":\"Pendik\", \"iş\":\"Maltepe\"}\n",
    "}\n",
    "\n",
    "my_info"
   ]
  },
  {
   "cell_type": "code",
   "execution_count": 43,
   "metadata": {},
   "outputs": [
    {
     "data": {
      "text/plain": [
       "{'Ankara': 'Kızılay', 'İstanbul': 'Pendik', 'iş': 'Maltepe'}"
      ]
     },
     "execution_count": 43,
     "metadata": {},
     "output_type": "execute_result"
    }
   ],
   "source": [
    "my_info[\"adres\"]"
   ]
  },
  {
   "cell_type": "code",
   "execution_count": 44,
   "metadata": {},
   "outputs": [
    {
     "data": {
      "text/plain": [
       "'Pendik'"
      ]
     },
     "execution_count": 44,
     "metadata": {},
     "output_type": "execute_result"
    }
   ],
   "source": [
    "my_info[\"adres\"][\"İstanbul\"]"
   ]
  },
  {
   "cell_type": "code",
   "execution_count": 47,
   "metadata": {},
   "outputs": [
    {
     "name": "stdout",
     "output_type": "stream",
     "text": [
      "[2, 3, 4, 8, 9]\n",
      "[(2, 'Basketbol'), (3, 'Futbol'), (4, 'Yüzme'), (8, 'Tenis'), (9, 'Voleybol')]\n",
      "['Basketbol', 'Futbol', 'Tenis', 'Voleybol', 'Yüzme']\n"
     ]
    }
   ],
   "source": [
    "sports = {\n",
    "    9: \"Voleybol\",\n",
    "    2: \"Basketbol\",\n",
    "    8: \"Tenis\",\n",
    "    4: \"Yüzme\",\n",
    "    3: \"Futbol\"\n",
    "}\n",
    "\n",
    "print(sorted(sports.keys()))\n",
    "print(sorted(sports.items()))\n",
    "print(sorted(sports.values()))\n",
    "\n",
    "#  key değerlerini ya da value değerlerini sorted edebilmemiz için hepsinin aynı veri tipinde olması gerekmektedir."
   ]
  },
  {
   "cell_type": "code",
   "execution_count": 48,
   "metadata": {},
   "outputs": [
    {
     "name": "stdout",
     "output_type": "stream",
     "text": [
      "[9, 8, 4, 3, 2]\n",
      "[(9, 'Voleybol'), (8, 'Tenis'), (4, 'Yüzme'), (3, 'Futbol'), (2, 'Basketbol')]\n",
      "['Yüzme', 'Voleybol', 'Tenis', 'Futbol', 'Basketbol']\n"
     ]
    }
   ],
   "source": [
    "# değerleri tersten yazdırır.\n",
    "print(sorted(sports.keys(), reverse=True))\n",
    "print(sorted(sports.items(), reverse=True))\n",
    "print(sorted(sports.values(), reverse=True))"
   ]
  },
  {
   "cell_type": "markdown",
   "metadata": {},
   "source": [
    "---"
   ]
  },
  {
   "cell_type": "markdown",
   "metadata": {},
   "source": [
    "**Örnek Sorular**"
   ]
  },
  {
   "cell_type": "code",
   "execution_count": 50,
   "metadata": {},
   "outputs": [
    {
     "name": "stdout",
     "output_type": "stream",
     "text": [
      "{'hidrojen': 9, 'oksijen': 15, 'helyum': 8, 'karbon': 12}\n"
     ]
    }
   ],
   "source": [
    "# Her bir key değerinin karsşısındaki value değerini key'in uzunluğu + value değeri ile değiştirelim.\n",
    "elements = {\n",
    "    \"hidrojen\":1,\n",
    "    \"oksijen\":8,\n",
    "    \"helyum\":2,\n",
    "    \"karbon\":6\n",
    "}\n",
    "\n",
    "for key, value in elements.items():\n",
    "    elements[key] = len(key) + value\n",
    "\n",
    "print(elements)\n"
   ]
  },
  {
   "cell_type": "code",
   "execution_count": 51,
   "metadata": {},
   "outputs": [
    {
     "data": {
      "text/plain": [
       "{'Merve': 35, 'Emre': 38, 'Ayşe': 24, 'Asena': 27, 'Ezgi': 31}"
      ]
     },
     "execution_count": 51,
     "metadata": {},
     "output_type": "execute_result"
    }
   ],
   "source": [
    "# bu iki sözlüğü birbirine ekleyelim.\n",
    "my_dict1 = {\"Merve\":35, \"Emre\":27, \"Ayşe\":24}\n",
    "my_dict2 = {\"Asena\":27, \"Ezgi\":31, \"Emre\":38}\n",
    "\n",
    "new_dict = {**my_dict1, **my_dict2}\n",
    "\n",
    "new_dict"
   ]
  },
  {
   "cell_type": "code",
   "execution_count": 53,
   "metadata": {},
   "outputs": [
    {
     "data": {
      "text/plain": [
       "{'Merve': 35, 'Emre': 38, 'Ayşe': 24, 'Asena': 27, 'Ezgi': 31}"
      ]
     },
     "execution_count": 53,
     "metadata": {},
     "output_type": "execute_result"
    }
   ],
   "source": [
    "my_dict1.update(my_dict2)\n",
    "my_dict1"
   ]
  },
  {
   "cell_type": "code",
   "execution_count": 54,
   "metadata": {},
   "outputs": [
    {
     "data": {
      "text/plain": [
       "0"
      ]
     },
     "execution_count": 54,
     "metadata": {},
     "output_type": "execute_result"
    }
   ],
   "source": [
    "# 0 elamamına ulaşın.\n",
    "my_dict = {\n",
    "    \"python\":\n",
    "        {\n",
    "           \"weeks\":\n",
    "           {\n",
    "               \"data_structures\":\"list\", \n",
    "               \"dict\":\n",
    "                  {\n",
    "                    \"key\":0, \n",
    "                    \"value\":1\n",
    "                    }\n",
    "            }\n",
    "        }\n",
    "    }\n",
    "\n",
    "my_dict[\"python\"][\"weeks\"][\"dict\"][\"key\"]"
   ]
  },
  {
   "cell_type": "code",
   "execution_count": 55,
   "metadata": {},
   "outputs": [
    {
     "data": {
      "text/plain": [
       "{'adana': 1, 'istanbul': 34, 'van': 65}"
      ]
     },
     "execution_count": 55,
     "metadata": {},
     "output_type": "execute_result"
    }
   ],
   "source": [
    "# İki listeyi birleştirip bir sözlük oluşturalım.\n",
    "keys = [\"adana\", \"istanbul\", \"van\"]\n",
    "values = [1, 34, 65]\n",
    "\n",
    "my_dict = {}\n",
    "for i in range(len(keys)):\n",
    "    my_dict.update({keys[i]:values[i]})\n",
    "\n",
    "my_dict"
   ]
  },
  {
   "cell_type": "code",
   "execution_count": 56,
   "metadata": {},
   "outputs": [
    {
     "data": {
      "text/plain": [
       "{'adana': 1, 'istanbul': 34, 'van': 65}"
      ]
     },
     "execution_count": 56,
     "metadata": {},
     "output_type": "execute_result"
    }
   ],
   "source": [
    "# İki listeyi birleştirip bir sözlük oluşturalım.\n",
    "keys = [\"adana\", \"istanbul\", \"van\"]\n",
    "values = [1, 34, 65]\n",
    "\n",
    "my_dict = dict(zip(keys, values))\n",
    "\n",
    "my_dict"
   ]
  },
  {
   "cell_type": "code",
   "execution_count": 59,
   "metadata": {},
   "outputs": [
    {
     "data": {
      "text/plain": [
       "{'joey': 'joey_tribbiani',\n",
       " 'rachel': 'rachel_green',\n",
       " 'ross': 'ross_geller',\n",
       " 'monica': 'monica_geller',\n",
       " 'phoebe': 'phoebe_buffay',\n",
       " 'chandler': 'chandler_bing'}"
      ]
     },
     "execution_count": 59,
     "metadata": {},
     "output_type": "execute_result"
    }
   ],
   "source": [
    "# friends dizisinin oyuncularının ismini örneğin ; Joey Tribbani value değeri joey_tribbani olarak değiştirelim.\n",
    "friends = {\n",
    "    \"joey\":\"Joey Tribbiani\",\n",
    "    \"rachel\":\"Rachel Green\",\n",
    "    \"ross\":\"Ross Geller\",\n",
    "    \"monica\":\"Monica Geller\",\n",
    "    \"phoebe\":\"Phoebe Buffay\",\n",
    "    \"chandler\":\"Chandler Bing\"\n",
    "}\n",
    "\n",
    "for key, value in friends.items():\n",
    "    friends.update({key:value.replace(\" \",\"_\").lower()})\n",
    "\n",
    "friends"
   ]
  }
 ],
 "metadata": {
  "kernelspec": {
   "display_name": "Python 3.10.5 32-bit",
   "language": "python",
   "name": "python3"
  },
  "language_info": {
   "codemirror_mode": {
    "name": "ipython",
    "version": 3
   },
   "file_extension": ".py",
   "mimetype": "text/x-python",
   "name": "python",
   "nbconvert_exporter": "python",
   "pygments_lexer": "ipython3",
   "version": "3.10.5"
  },
  "orig_nbformat": 4,
  "vscode": {
   "interpreter": {
    "hash": "3a76228ad2be0688f8ad5f22cd5a5c34eb0a8c6f0341e9e6e30d2b6319109a87"
   }
  }
 },
 "nbformat": 4,
 "nbformat_minor": 2
}
