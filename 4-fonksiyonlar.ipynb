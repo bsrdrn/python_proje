{
 "cells": [
  {
   "cell_type": "markdown",
   "metadata": {},
   "source": [
    "**Fonksiyonlar**\n",
    "\n",
    "def anahtar kelimesi ile oluşturulur. \n",
    "\n",
    "def fonksiyon_ismi (required)\n",
    "    return(Optional)"
   ]
  },
  {
   "cell_type": "markdown",
   "metadata": {},
   "source": [
    "Fonksiyonlar ikiye ayrılır;\n",
    "* Parametreli\n",
    "* Parametresiz "
   ]
  },
  {
   "cell_type": "code",
   "execution_count": 1,
   "metadata": {},
   "outputs": [
    {
     "name": "stdout",
     "output_type": "stream",
     "text": [
      "Hoşgeldiniz!\n"
     ]
    }
   ],
   "source": [
    "def selamla():\n",
    "    print(\"Hoşgeldiniz!\")\n",
    "\n",
    "selamla()"
   ]
  },
  {
   "cell_type": "code",
   "execution_count": 3,
   "metadata": {},
   "outputs": [
    {
     "name": "stdout",
     "output_type": "stream",
     "text": [
      "Hoş geldin Bilge\n"
     ]
    }
   ],
   "source": [
    "def selamla(name):\n",
    "    print(f\"Hoş geldin {name}\")\n",
    "\n",
    "selamla(\"Bilge\")"
   ]
  },
  {
   "cell_type": "code",
   "execution_count": 4,
   "metadata": {},
   "outputs": [
    {
     "name": "stdout",
     "output_type": "stream",
     "text": [
      "Sonuç:  13\n"
     ]
    }
   ],
   "source": [
    "def add(num1, num2):\n",
    "    num3 = num1 + num2\n",
    "    return num3\n",
    "\n",
    "result = add(4,9)\n",
    "print(\"Sonuç: \", result)\n",
    "\n",
    "\n",
    "\"\"\"\n",
    "Burada yapılan işlem aşağıdaki ile aynı olupr burda gereksiz tanımlamalar vardır ve işlem uzatımıştır.\n",
    "add normal fonksiyon adı olup toplama yaptıgımız için add diye belittik. Herhangi birşeyde yazılabilirdi.\n",
    "\"\"\""
   ]
  },
  {
   "cell_type": "code",
   "execution_count": null,
   "metadata": {},
   "outputs": [],
   "source": [
    "def add(num1,num2):\n",
    "    return num1 + num2\n",
    "\n",
    "print(\"Sonuç: \", add(4,9))\n",
    "\n",
    "\"\"\"\n",
    "Burada ise return kullanımı ile ayrıca değişken tanımlamaya gerek duyulmadan aynı işlemi yaptık.\n",
    "\"\"\""
   ]
  },
  {
   "cell_type": "code",
   "execution_count": 1,
   "metadata": {},
   "outputs": [
    {
     "name": "stdout",
     "output_type": "stream",
     "text": [
      "Sonuç:  17\n"
     ]
    }
   ],
   "source": [
    "def add (num1, num2):\n",
    "    return num1 + num2\n",
    "    \n",
    "def add2 (total, x):\n",
    "    print(\"Sonuç: \" , (total + x))\n",
    "\n",
    "result = add(4,7)\n",
    "add2(result, 6)"
   ]
  },
  {
   "cell_type": "markdown",
   "metadata": {},
   "source": [
    "Modülün import edilmesiyle beraber fonksiyon kullanımı"
   ]
  },
  {
   "cell_type": "code",
   "execution_count": 7,
   "metadata": {},
   "outputs": [
    {
     "name": "stdout",
     "output_type": "stream",
     "text": [
      "67\n",
      "124\n"
     ]
    }
   ],
   "source": [
    "import random \n",
    "\n",
    "print(random.randint(10,200))\n",
    "\n",
    "\n",
    "from random import randint\n",
    "\n",
    "print(randint(10,200))"
   ]
  },
  {
   "cell_type": "markdown",
   "metadata": {},
   "source": [
    "Birden Fazla Dönüş"
   ]
  },
  {
   "cell_type": "code",
   "execution_count": 9,
   "metadata": {},
   "outputs": [
    {
     "name": "stdout",
     "output_type": "stream",
     "text": [
      "İki değerin ;\n",
      "Toplamı: 15\n",
      "Çıkarma: 9\n",
      "Çarpımı: 36\n",
      "Bölme: 4.0\n"
     ]
    }
   ],
   "source": [
    "def calculater(num1, num2):\n",
    "    add = num1 + num2\n",
    "    sub = num1 - num2\n",
    "    multiply = num1 * num2\n",
    "    division = num1 / num2\n",
    "\n",
    "    return add, sub, multiply, division\n",
    "\n",
    "a, b, c, d = calculater(12, 3)\n",
    "print(f\"İki değerin ;\\nToplamı: {a}\\nÇıkarma: {b}\\nÇarpımı: {c}\\nBölme: {d}\")"
   ]
  },
  {
   "cell_type": "markdown",
   "metadata": {},
   "source": [
    "Fonksiyonlar içerisinde değişkenlerin kapsamı\n",
    "1. Yerel Değişkenler\n",
    "2. Global Değişkenler "
   ]
  },
  {
   "cell_type": "code",
   "execution_count": 10,
   "metadata": {},
   "outputs": [
    {
     "name": "stdout",
     "output_type": "stream",
     "text": [
      "Fonksiyon içerisinde  local\n",
      "Fonksiyon içerisinde  Global\n",
      "Fonksiyon dışında  Global\n"
     ]
    },
    {
     "ename": "NameError",
     "evalue": "name 'local_variable' is not defined",
     "output_type": "error",
     "traceback": [
      "\u001b[1;31m---------------------------------------------------------------------------\u001b[0m",
      "\u001b[1;31mNameError\u001b[0m                                 Traceback (most recent call last)",
      "Cell \u001b[1;32mIn [10], line 10\u001b[0m\n\u001b[0;32m      8\u001b[0m func()\n\u001b[0;32m      9\u001b[0m \u001b[38;5;28mprint\u001b[39m(\u001b[38;5;124m\"\u001b[39m\u001b[38;5;124mFonksiyon dışında \u001b[39m\u001b[38;5;124m\"\u001b[39m, global_variable)\n\u001b[1;32m---> 10\u001b[0m \u001b[38;5;28mprint\u001b[39m(\u001b[38;5;124m\"\u001b[39m\u001b[38;5;124mFonksiyon dışında \u001b[39m\u001b[38;5;124m\"\u001b[39m, \u001b[43mlocal_variable\u001b[49m)\n",
      "\u001b[1;31mNameError\u001b[0m: name 'local_variable' is not defined"
     ]
    }
   ],
   "source": [
    "global_variable = \"Global\"\n",
    "\n",
    "def func():\n",
    "    local_variable = \"local\"\n",
    "    print(\"Fonksiyon içerisinde \", local_variable)\n",
    "    print(\"Fonksiyon içerisinde \", global_variable)\n",
    "\n",
    "func()\n",
    "print(\"Fonksiyon dışında \", global_variable)\n",
    "print(\"Fonksiyon dışında \", local_variable)"
   ]
  },
  {
   "cell_type": "code",
   "execution_count": 11,
   "metadata": {},
   "outputs": [
    {
     "name": "stdout",
     "output_type": "stream",
     "text": [
      "9\n",
      "4\n",
      "9\n"
     ]
    }
   ],
   "source": [
    "a = 9\n",
    "\n",
    "def print1():\n",
    "    print(a)\n",
    "\n",
    "def print2():\n",
    "    a = 4\n",
    "    print(a)\n",
    "\n",
    "def print3():\n",
    "    print(a)\n",
    "\n",
    "print1()\n",
    "print2()\n",
    "print3()"
   ]
  },
  {
   "cell_type": "code",
   "execution_count": 13,
   "metadata": {},
   "outputs": [
    {
     "name": "stdout",
     "output_type": "stream",
     "text": [
      "9\n",
      "4\n",
      "4\n"
     ]
    }
   ],
   "source": [
    "a = 9\n",
    "\n",
    "def print1():\n",
    "    print(a)\n",
    "\n",
    "def print2():\n",
    "    global a\n",
    "    a = 4\n",
    "    print(a)\n",
    "\n",
    "def print3():\n",
    "    print(a)\n",
    "\n",
    "print1()\n",
    "print2()\n",
    "print3()"
   ]
  },
  {
   "cell_type": "markdown",
   "metadata": {},
   "source": [
    "Default parametre tanımlama;\n",
    "\n",
    "Bu örnekteki name kısmı default olup değer verilmediğinde default bir değere eşitlenir ve çıktıda name için belirli bir değer verilmezse defaultta verilen değer döndürülür.\n",
    "\n",
    "Default değişken genel olarak sonda tanımlanır."
   ]
  },
  {
   "cell_type": "code",
   "execution_count": 2,
   "metadata": {},
   "outputs": [
    {
     "name": "stdout",
     "output_type": "stream",
     "text": [
      "Hoş geldin  Büşra\n",
      "Hoş geldin  Sisterslab\n"
     ]
    }
   ],
   "source": [
    "def say_hello(name = \"Sisterslab\"):\n",
    "    print(\"Hoş geldin \", name)\n",
    "\n",
    "say_hello(\"Büşra\")\n",
    "say_hello()"
   ]
  },
  {
   "cell_type": "code",
   "execution_count": 3,
   "metadata": {},
   "outputs": [
    {
     "name": "stdout",
     "output_type": "stream",
     "text": [
      "Rabia adlı personel 26 yaşında. Maaşı: 10000\n",
      "Zehra adlı personel 25 yaşında. Maaşı: 5000\n"
     ]
    }
   ],
   "source": [
    "def person (name, age, salary = 5000):\n",
    "    print(f\"{name} adlı personel {age} yaşında. Maaşı: {salary}\")\n",
    "\n",
    "person(\"Rabia\", 26,  10000)\n",
    "person(\"Zehra\", 25)\n"
   ]
  },
  {
   "cell_type": "code",
   "execution_count": 4,
   "metadata": {},
   "outputs": [
    {
     "name": "stdout",
     "output_type": "stream",
     "text": [
      "Toplam:  0\n",
      "Toplam:  19\n",
      "Toplam:  110.6\n"
     ]
    }
   ],
   "source": [
    "def add (*numbers):\n",
    "    total = 0\n",
    "    for i in numbers:\n",
    "        total += i\n",
    "    print(\"Toplam: \", total)\n",
    "\n",
    "add()          # 0 argument\n",
    "add(1,4,6,8)   # 4 arguments\n",
    "add(13.6,7,90) # 3 arguments"
   ]
  },
  {
   "cell_type": "code",
   "execution_count": 6,
   "metadata": {},
   "outputs": [
    {
     "name": "stdout",
     "output_type": "stream",
     "text": [
      "5 ile 20 değerleri arasındaki çift sayıların ortalaması:  12.0\n"
     ]
    }
   ],
   "source": [
    "# Kullanıcının giriği iki sayı arasındaki çift sayıların ortalamasını bulan bir fonksiyon yazalım.\n",
    "\n",
    "def isEven(num):\n",
    "    return num % 2 ==0\n",
    "\n",
    "start = int(input(\"Başlangıç Değeri Girin: \"))\n",
    "end = int(input(\"Bitiş Değeri Girin: \"))\n",
    "\n",
    "total = count = 0\n",
    "for item in range(start,end):\n",
    "  if isEven(item):\n",
    "     total += item \n",
    "     count += 1\n",
    "\n",
    "print(f\"{start} ile {end} değerleri arasındaki çift sayıların ortalaması: \" , total/count)"
   ]
  },
  {
   "cell_type": "code",
   "execution_count": 7,
   "metadata": {},
   "outputs": [
    {
     "name": "stdout",
     "output_type": "stream",
     "text": [
      "True\n"
     ]
    }
   ],
   "source": [
    "# Bir sayının asal olup olmadığını dönen fonksiyonu yazalım.\n",
    "\n",
    "def asal(number):\n",
    "    result = True\n",
    "    for i in range(2, number):\n",
    "      if number % i == 0:\n",
    "        result = False\n",
    "        break\n",
    "    return result\n",
    "\n",
    "print(asal(17))"
   ]
  },
  {
   "cell_type": "markdown",
   "metadata": {},
   "source": [
    "Pazar"
   ]
  }
 ],
 "metadata": {
  "kernelspec": {
   "display_name": "Python 3.10.5 32-bit",
   "language": "python",
   "name": "python3"
  },
  "language_info": {
   "codemirror_mode": {
    "name": "ipython",
    "version": 3
   },
   "file_extension": ".py",
   "mimetype": "text/x-python",
   "name": "python",
   "nbconvert_exporter": "python",
   "pygments_lexer": "ipython3",
   "version": "3.10.5"
  },
  "orig_nbformat": 4,
  "vscode": {
   "interpreter": {
    "hash": "3a76228ad2be0688f8ad5f22cd5a5c34eb0a8c6f0341e9e6e30d2b6319109a87"
   }
  }
 },
 "nbformat": 4,
 "nbformat_minor": 2
}
