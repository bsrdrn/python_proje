{
 "cells": [
  {
   "cell_type": "markdown",
   "metadata": {},
   "source": [
    "**Fonksiyonlar**\n",
    "\n",
    "def anahtar kelimesi ile oluşturulur. \n",
    "\n",
    "def fonksiyon_ismi (required)\n",
    "    return(Optional)"
   ]
  },
  {
   "cell_type": "markdown",
   "metadata": {},
   "source": [
    "Fonksiyonlar ikiye ayrılır;\n",
    "* Parametreli\n",
    "* Parametresiz "
   ]
  },
  {
   "cell_type": "code",
   "execution_count": 1,
   "metadata": {},
   "outputs": [
    {
     "name": "stdout",
     "output_type": "stream",
     "text": [
      "Hoşgeldiniz!\n"
     ]
    }
   ],
   "source": [
    "def selamla():\n",
    "    print(\"Hoşgeldiniz!\")\n",
    "\n",
    "selamla()"
   ]
  },
  {
   "cell_type": "code",
   "execution_count": 3,
   "metadata": {},
   "outputs": [
    {
     "name": "stdout",
     "output_type": "stream",
     "text": [
      "Hoş geldin Bilge\n"
     ]
    }
   ],
   "source": [
    "def selamla(name):\n",
    "    print(f\"Hoş geldin {name}\")\n",
    "\n",
    "selamla(\"Bilge\")"
   ]
  },
  {
   "cell_type": "code",
   "execution_count": 4,
   "metadata": {},
   "outputs": [
    {
     "name": "stdout",
     "output_type": "stream",
     "text": [
      "Sonuç:  13\n"
     ]
    }
   ],
   "source": [
    "def add(num1, num2):\n",
    "    num3 = num1 + num2\n",
    "    return num3\n",
    "\n",
    "result = add(4,9)\n",
    "print(\"Sonuç: \", result)\n",
    "\n",
    "\n",
    "\"\"\"\n",
    "Burada yapılan işlem aşağıdaki ile aynı olupr burda gereksiz tanımlamalar vardır ve işlem uzatımıştır.\n",
    "add normal fonksiyon adı olup toplama yaptıgımız için add diye belittik. Herhangi birşeyde yazılabilirdi.\n",
    "\"\"\""
   ]
  },
  {
   "cell_type": "code",
   "execution_count": null,
   "metadata": {},
   "outputs": [],
   "source": [
    "def add(num1,num2):\n",
    "    return num1 + num2\n",
    "\n",
    "print(\"Sonuç: \", add(4,9))\n",
    "\n",
    "\"\"\"\n",
    "Burada ise return kullanımı ile ayrıca değişken tanımlamaya gerek duyulmadan aynı işlemi yaptık.\n",
    "\"\"\""
   ]
  },
  {
   "cell_type": "code",
   "execution_count": null,
   "metadata": {},
   "outputs": [],
   "source": [
    "def add (num1, num2):\n",
    "    return num1 + num2\n",
    "    \n",
    "def add2 (total, x):\n",
    "    print(return + x)"
   ]
  }
 ],
 "metadata": {
  "kernelspec": {
   "display_name": "Python 3.10.5 32-bit",
   "language": "python",
   "name": "python3"
  },
  "language_info": {
   "codemirror_mode": {
    "name": "ipython",
    "version": 3
   },
   "file_extension": ".py",
   "mimetype": "text/x-python",
   "name": "python",
   "nbconvert_exporter": "python",
   "pygments_lexer": "ipython3",
   "version": "3.10.5"
  },
  "orig_nbformat": 4,
  "vscode": {
   "interpreter": {
    "hash": "3a76228ad2be0688f8ad5f22cd5a5c34eb0a8c6f0341e9e6e30d2b6319109a87"
   }
  }
 },
 "nbformat": 4,
 "nbformat_minor": 2
}
