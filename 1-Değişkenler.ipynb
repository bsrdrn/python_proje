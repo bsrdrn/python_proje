{
 "cells": [
  {
   "cell_type": "markdown",
   "metadata": {},
   "source": [
    "**Değişkenler**\n",
    "\n",
    "Programlama dilinde verileri tutan yapılardır.\n",
    "\n",
    "**variable_name = variable_value**"
   ]
  },
  {
   "cell_type": "code",
   "execution_count": 1,
   "metadata": {},
   "outputs": [
    {
     "name": "stdout",
     "output_type": "stream",
     "text": [
      "Duygu\n",
      "24\n",
      "20000.5\n"
     ]
    }
   ],
   "source": [
    "name = \"Duygu\"\n",
    "age = 24\n",
    "salary = 20000.50\n",
    "\n",
    "print(name)\n",
    "print(age)\n",
    "print(salary)"
   ]
  },
  {
   "cell_type": "markdown",
   "metadata": {},
   "source": [
    "**Değişken Tanımlama Kuralları**\n",
    "\n",
    "*Değişken harf, rakam, alt çizgi kombinasyonu içermeli\n",
    "\n",
    "*Rakamla başlamamalı\n",
    "\n",
    "*Büyük,küçük harf duyarlı"
   ]
  },
  {
   "cell_type": "markdown",
   "metadata": {},
   "source": [
    "**Bir Değişkenin Değerini Değiştirme**"
   ]
  },
  {
   "cell_type": "code",
   "execution_count": 5,
   "metadata": {},
   "outputs": [
    {
     "name": "stdout",
     "output_type": "stream",
     "text": [
      "49\n"
     ]
    },
    {
     "data": {
      "text/plain": [
       "int"
      ]
     },
     "execution_count": 5,
     "metadata": {},
     "output_type": "execute_result"
    }
   ],
   "source": [
    "variable = 49\n",
    "\n",
    "print(variable)\n",
    "type(variable) \n",
    "#değişkenin tipini öğrenmek için type() kullanılır\n"
   ]
  },
  {
   "cell_type": "code",
   "execution_count": 6,
   "metadata": {},
   "outputs": [
    {
     "name": "stdout",
     "output_type": "stream",
     "text": [
      "Şevval\n"
     ]
    },
    {
     "data": {
      "text/plain": [
       "str"
      ]
     },
     "execution_count": 6,
     "metadata": {},
     "output_type": "execute_result"
    }
   ],
   "source": [
    "variable = \"Şevval\"\n",
    "\n",
    "print(variable)\n",
    "type(variable)"
   ]
  },
  {
   "cell_type": "markdown",
   "metadata": {},
   "source": [
    "**Büyük küçük harf duyarlıdır**"
   ]
  },
  {
   "cell_type": "code",
   "execution_count": 7,
   "metadata": {},
   "outputs": [
    {
     "name": "stdout",
     "output_type": "stream",
     "text": [
      "Büşra\n",
      "Duran\n"
     ]
    }
   ],
   "source": [
    "variable = \"Büşra\"\n",
    "Variable =\"Duran\"\n",
    "\n",
    "print(variable)\n",
    "print(Variable)"
   ]
  },
  {
   "cell_type": "markdown",
   "metadata": {},
   "source": [
    "**Veri Tipleri**\n",
    "\n",
    "* Int\n",
    "* Float\n",
    "* Boolean\n",
    "* String"
   ]
  },
  {
   "cell_type": "markdown",
   "metadata": {},
   "source": [
    "**Integer**\n",
    "\n",
    "Virgüllü olmayan tam sayıları ifade eder"
   ]
  },
  {
   "cell_type": "code",
   "execution_count": null,
   "metadata": {},
   "outputs": [],
   "source": [
    "age = 26"
   ]
  },
  {
   "cell_type": "markdown",
   "metadata": {},
   "source": [
    "**Float**\n",
    "\n",
    "Virgüllü olan değişkenlerimiz"
   ]
  },
  {
   "cell_type": "code",
   "execution_count": null,
   "metadata": {},
   "outputs": [],
   "source": [
    "pi_sayisi=3.14"
   ]
  },
  {
   "cell_type": "markdown",
   "metadata": {},
   "source": [
    "**Boolean**\n",
    "\n",
    "True yada false değerleri ile tutulur.\n",
    "\n",
    "Kontrol sağlanır."
   ]
  },
  {
   "cell_type": "code",
   "execution_count": null,
   "metadata": {},
   "outputs": [],
   "source": []
  }
 ],
 "metadata": {
  "kernelspec": {
   "display_name": "Python 3.10.5 32-bit",
   "language": "python",
   "name": "python3"
  },
  "language_info": {
   "codemirror_mode": {
    "name": "ipython",
    "version": 3
   },
   "file_extension": ".py",
   "mimetype": "text/x-python",
   "name": "python",
   "nbconvert_exporter": "python",
   "pygments_lexer": "ipython3",
   "version": "3.10.5"
  },
  "orig_nbformat": 4,
  "vscode": {
   "interpreter": {
    "hash": "3a76228ad2be0688f8ad5f22cd5a5c34eb0a8c6f0341e9e6e30d2b6319109a87"
   }
  }
 },
 "nbformat": 4,
 "nbformat_minor": 2
}
