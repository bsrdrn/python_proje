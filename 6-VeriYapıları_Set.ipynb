{
 "cells": [
  {
   "cell_type": "markdown",
   "metadata": {},
   "source": [
    "**SET**\n",
    "\n",
    "* index ile erişilemezler\n",
    "* unordered yapıdadır yani sıralı değillerdir. \n",
    "* Bir sete erişmek istediğinizde sıralama her seferinde farklılaşacaktır.\n",
    "* Setler değiştirilemezler, yani immutable yapıdadır.\n",
    "* Tuple'dan farklı olarak sete yeni eleman eklenip çıkarılabiliyor, ancak set içerisinde var olan elemanın değeri değiştirilemez.\n",
    "* { } içerisinde tanımlanır. Elemanlar virgül ile ayrılır.\n",
    "* Farklı tipte veri taşımaya izin verir.\n",
    "* Aynı değere sahip iki eleman YER ALAMAZ. Dublicate veri taşımazlar."
   ]
  },
  {
   "cell_type": "code",
   "execution_count": 1,
   "metadata": {},
   "outputs": [
    {
     "name": "stdout",
     "output_type": "stream",
     "text": [
      "{1023.452, True, 12, 'Sude'}\n"
     ]
    }
   ],
   "source": [
    "int_set = {1, 2, 3, 4}\n",
    "string_set = {\"Ayşe\", \"Ece\", \"Su\", \"Burcu\", \"Gül\"}\n",
    "\n",
    "mix_set = {12, \"Sude\", 1023.452, True}\n",
    "\n",
    "print(mix_set)"
   ]
  },
  {
   "cell_type": "code",
   "execution_count": 2,
   "metadata": {},
   "outputs": [
    {
     "name": "stdout",
     "output_type": "stream",
     "text": [
      "<class 'set'>\n"
     ]
    }
   ],
   "source": [
    "print(type(mix_set))"
   ]
  },
  {
   "cell_type": "code",
   "execution_count": 1,
   "metadata": {},
   "outputs": [
    {
     "name": "stdout",
     "output_type": "stream",
     "text": [
      "{0, 1, 2, 3, 8, 9}\n"
     ]
    }
   ],
   "source": [
    "my_set = {1, 3, 8, 1, 2, 8, 0, 9}\n",
    "print(my_set)"
   ]
  },
  {
   "cell_type": "code",
   "execution_count": 2,
   "metadata": {},
   "outputs": [
    {
     "name": "stdout",
     "output_type": "stream",
     "text": [
      "[1, 3, 8, 1, 2, 'Ece', 'Ece', True, 8, 0, False, 9, 19, False, 3, 2]\n",
      "{0, 1, 2, 3, 8, 9, 19, 'Ece'}\n"
     ]
    }
   ],
   "source": [
    "my_list = [1, 3, 8, 1, 2, \"Ece\", \"Ece\", True, 8, 0, False, 9, 19, False, 3, 2]\n",
    "print(my_list)\n",
    "\n",
    "my_set = set(my_list)\n",
    "print(my_set)"
   ]
  },
  {
   "cell_type": "markdown",
   "metadata": {},
   "source": [
    "Bu örnekte True ve False değerleri 0, 1 olarak alınıyor ve bunlar tekrar eden değerler olduğu için set içerisinde gösterilmiyor. eğer 0 ve 1 değerlerini silersek True False değerleri görüntülenecektir."
   ]
  },
  {
   "cell_type": "code",
   "execution_count": 3,
   "metadata": {},
   "outputs": [
    {
     "name": "stdout",
     "output_type": "stream",
     "text": [
      "[3, 8, 2, 'Ece', 'Ece', True, 8, False, 9, 19, False, 3, 2]\n",
      "{False, True, 2, 3, 8, 9, 19, 'Ece'}\n"
     ]
    }
   ],
   "source": [
    "my_list = [3, 8, 2, \"Ece\", \"Ece\", True, 8, False, 9, 19, False, 3, 2]\n",
    "print(my_list)\n",
    "\n",
    "my_set = set(my_list)\n",
    "print(my_set)"
   ]
  },
  {
   "cell_type": "code",
   "execution_count": 4,
   "metadata": {},
   "outputs": [
    {
     "ename": "TypeError",
     "evalue": "unhashable type: 'list'",
     "output_type": "error",
     "traceback": [
      "\u001b[1;31m---------------------------------------------------------------------------\u001b[0m",
      "\u001b[1;31mTypeError\u001b[0m                                 Traceback (most recent call last)",
      "Cell \u001b[1;32mIn [4], line 1\u001b[0m\n\u001b[1;32m----> 1\u001b[0m my_set \u001b[39m=\u001b[39m {\u001b[39m\"\u001b[39m\u001b[39mAyşe\u001b[39m\u001b[39m\"\u001b[39m, \u001b[39m\"\u001b[39m\u001b[39mDuygu\u001b[39m\u001b[39m\"\u001b[39m, \u001b[39m\"\u001b[39m\u001b[39mBaşak\u001b[39m\u001b[39m\"\u001b[39m, [\u001b[39m\"\u001b[39m\u001b[39mMüzeyyen\u001b[39m\u001b[39m\"\u001b[39m, \u001b[39m\"\u001b[39m\u001b[39mİrem\u001b[39m\u001b[39m\"\u001b[39m, \u001b[39m\"\u001b[39m\u001b[39mNihal\u001b[39m\u001b[39m\"\u001b[39m]}\n\u001b[0;32m      3\u001b[0m \u001b[39mprint\u001b[39m(my_set)\n",
      "\u001b[1;31mTypeError\u001b[0m: unhashable type: 'list'"
     ]
    }
   ],
   "source": [
    "# Set içerisinde Liste kullanımı;\n",
    " \n",
    "my_set = {\"Ayşe\", \"Duygu\", \"Başak\", [\"Müzeyyen\", \"İrem\", \"Nihal\"]}\n",
    "\n",
    "print(my_set)"
   ]
  },
  {
   "cell_type": "markdown",
   "metadata": {},
   "source": [
    "Set içerisine liste eklenememektedir. Çünkü listeler içerisindeki elemanlarda değişiklik yapılabilirken, set içerisinde yer alan elemanlarda değişiklik yapılamadığı için set içerisinde liste yer alamaz."
   ]
  },
  {
   "cell_type": "code",
   "execution_count": 5,
   "metadata": {},
   "outputs": [
    {
     "name": "stdout",
     "output_type": "stream",
     "text": [
      "{'Ayşe', 'Duygu', 'Başak', ('Müzeyyen', 'İrem', 'Nihal')}\n"
     ]
    }
   ],
   "source": [
    "# Set içerisinde Tuple kullanımı;\n",
    " \n",
    "my_set = {\"Ayşe\", \"Duygu\", \"Başak\", (\"Müzeyyen\", \"İrem\", \"Nihal\")}\n",
    "\n",
    "print(my_set)"
   ]
  },
  {
   "cell_type": "markdown",
   "metadata": {},
   "source": [
    "Set içerisine listenin aksine tuple eklenebilmektedir. Tuple içerisindeki elemanlarda herhangi bir değişiklik yapılamadığı için set ile benzer bir yapıya sahip olmasından dolayı set içerisinde kullanılabilmektedir."
   ]
  },
  {
   "cell_type": "markdown",
   "metadata": {},
   "source": [
    "---"
   ]
  },
  {
   "cell_type": "markdown",
   "metadata": {},
   "source": [
    "Boş bir liste ve tuple oluşturmak istediğimizde;\n",
    "* my_list = []\n",
    "* my_tuole = ()\n",
    "\n",
    "şeklinde yaparız.\n",
    "\n",
    "Setlerde ise durum farklıdır."
   ]
  },
  {
   "cell_type": "code",
   "execution_count": 6,
   "metadata": {},
   "outputs": [
    {
     "name": "stdout",
     "output_type": "stream",
     "text": [
      "<class 'set'>\n"
     ]
    }
   ],
   "source": [
    "empty_set = set()     # set normalde {} ile belirtilirken burda türünü belirterek kullandık.\n",
    "print(type(empty_set))"
   ]
  },
  {
   "cell_type": "code",
   "execution_count": 7,
   "metadata": {},
   "outputs": [
    {
     "name": "stdout",
     "output_type": "stream",
     "text": [
      "<class 'dict'>\n"
     ]
    }
   ],
   "source": [
    "empty_set = {}         # boş bir set oluşturmak istediğimizde bunun türü dictionary olacaktır.\n",
    "print(type(empty_set))"
   ]
  },
  {
   "cell_type": "markdown",
   "metadata": {},
   "source": [
    "Elemanlara Erişim"
   ]
  },
  {
   "cell_type": "code",
   "execution_count": 8,
   "metadata": {},
   "outputs": [
    {
     "name": "stdout",
     "output_type": "stream",
     "text": [
      "breaking bad\n",
      "The big bag theory\n",
      "friends\n",
      "person of ınterest\n",
      "How I met your mother\n"
     ]
    }
   ],
   "source": [
    "movies = {\"How I met your mother\", \"The big bag theory\", \"breaking bad\", \"friends\", \"person of ınterest\"}\n",
    "\n",
    "for item in movies:\n",
    "    print(item)"
   ]
  },
  {
   "cell_type": "markdown",
   "metadata": {},
   "source": [
    "---"
   ]
  },
  {
   "cell_type": "markdown",
   "metadata": {},
   "source": [
    "Set içerisinde eleman kontrolü "
   ]
  },
  {
   "cell_type": "code",
   "execution_count": 9,
   "metadata": {},
   "outputs": [
    {
     "name": "stdout",
     "output_type": "stream",
     "text": [
      "Diziler içerisinde mevcut değil\n"
     ]
    }
   ],
   "source": [
    "movies = {\"How I met your mother\", \"The big bag theory\", \"breaking bad\", \"friends\", \"person of ınterest\"}\n",
    "\n",
    "if \"Harry Potter\" in movies:\n",
    "    print(\"Diziler içerisinde mevcut\")\n",
    "else: print(\"Diziler içerisinde mevcut değil\")"
   ]
  },
  {
   "cell_type": "code",
   "execution_count": 10,
   "metadata": {},
   "outputs": [
    {
     "name": "stdout",
     "output_type": "stream",
     "text": [
      "Dizi setinin uzunluğu 5\n"
     ]
    }
   ],
   "source": [
    "print(\"Dizi setinin uzunluğu\", len(movies))"
   ]
  },
  {
   "cell_type": "markdown",
   "metadata": {},
   "source": [
    "Bir Set'e Eleman Ekleme\n",
    "\n",
    "* add( ) ile sete yeni bir eleman eklenir.\n",
    "* update( ) ile de birden fazla değer ekleme işlemi yapılır.\n"
   ]
  },
  {
   "cell_type": "code",
   "execution_count": 14,
   "metadata": {},
   "outputs": [
    {
     "name": "stdout",
     "output_type": "stream",
     "text": [
      "{'Harry Potter', 'Serenad', 'Müşterinizin Beynindeki Satın Alma Düğmesine Basmak', 'Merbaha Dünya', 'Bu İş asla Tutmaz'}\n",
      "{'Harry Potter', 'Serenad', 'Müşterinizin Beynindeki Satın Alma Düğmesine Basmak', 'Merbaha Dünya', 'Bu İş asla Tutmaz'}\n"
     ]
    }
   ],
   "source": [
    "# add  \n",
    "books = {\"Harry Potter\", \"Serenad\", \"Müşterinizin Beynindeki Satın Alma Düğmesine Basmak\", \"Merbaha Dünya\"}\n",
    "\n",
    "books.add(\"Bu İş asla Tutmaz\")\n",
    "print(books)\n",
    "\n",
    "books.add(\"Harry Potter\")  # Mevcutta var olan değeri tekrar eklemez.\n",
    "print(books)"
   ]
  },
  {
   "cell_type": "code",
   "execution_count": 15,
   "metadata": {},
   "outputs": [
    {
     "name": "stdout",
     "output_type": "stream",
     "text": [
      "{'Harry Potter', 'Körlük', 'Serenad', 'Müşterinizin Beynindeki Satın Alma Düğmesine Basmak', 'İnce Memed', 'Merbaha Dünya', 'Bu İş asla Tutmaz'}\n"
     ]
    }
   ],
   "source": [
    "# update\n",
    "books.update([\"Körlük\", \"İnce Memed\"])\n",
    "\n",
    "print(books)"
   ]
  },
  {
   "cell_type": "markdown",
   "metadata": {},
   "source": [
    "---"
   ]
  },
  {
   "cell_type": "markdown",
   "metadata": {},
   "source": [
    "Bir Set içerisinden Eleman Silme\n",
    "\n",
    "* remove( )\n",
    "* discard( )\n",
    "* pop( )\n",
    "* clear( )\n",
    "* del set\n"
   ]
  },
  {
   "cell_type": "code",
   "execution_count": 16,
   "metadata": {},
   "outputs": [
    {
     "data": {
      "text/plain": [
       "{'Bu İş asla Tutmaz',\n",
       " 'Körlük',\n",
       " 'Merbaha Dünya',\n",
       " 'Müşterinizin Beynindeki Satın Alma Düğmesine Basmak',\n",
       " 'Serenad',\n",
       " 'İnce Memed'}"
      ]
     },
     "execution_count": 16,
     "metadata": {},
     "output_type": "execute_result"
    }
   ],
   "source": [
    "# remove() --> Silmek istenilen elemanın değeri belirtilerek set içerisinden siler.\n",
    "books = {'Harry Potter', 'Körlük', 'Serenad', 'Müşterinizin Beynindeki Satın Alma Düğmesine Basmak', 'İnce Memed', 'Merbaha Dünya', 'Bu İş asla Tutmaz'}\n",
    "\n",
    "books.remove(\"Harry Potter\")\n",
    "books  #ilgili satırda çıktı almak istediğimizde tek bir çıktı almak istediğimizde print kullanmadan ilgili değişken adı ile de çıktı alabiliriz."
   ]
  },
  {
   "cell_type": "code",
   "execution_count": 17,
   "metadata": {},
   "outputs": [
    {
     "ename": "KeyError",
     "evalue": "'Harry Potter'",
     "output_type": "error",
     "traceback": [
      "\u001b[1;31m---------------------------------------------------------------------------\u001b[0m",
      "\u001b[1;31mKeyError\u001b[0m                                  Traceback (most recent call last)",
      "Cell \u001b[1;32mIn [17], line 3\u001b[0m\n\u001b[0;32m      1\u001b[0m \u001b[39m# Set içerisinde olmayan bir değeri silmek istersek hata ile karşılaşırız.\u001b[39;00m\n\u001b[1;32m----> 3\u001b[0m books\u001b[39m.\u001b[39;49mremove(\u001b[39m\"\u001b[39;49m\u001b[39mHarry Potter\u001b[39;49m\u001b[39m\"\u001b[39;49m)\n\u001b[0;32m      4\u001b[0m books\n",
      "\u001b[1;31mKeyError\u001b[0m: 'Harry Potter'"
     ]
    }
   ],
   "source": [
    "# Set içerisinde olmayan bir değeri silmek istersek hata ile karşılaşırız.\n",
    "\n",
    "books.remove(\"Harry Potter\")\n",
    "books"
   ]
  },
  {
   "cell_type": "code",
   "execution_count": 23,
   "metadata": {},
   "outputs": [
    {
     "data": {
      "text/plain": [
       "{'Bu İş asla Tutmaz', 'Körlük', 'Merbaha Dünya', 'Serenad', 'İnce Memed'}"
      ]
     },
     "execution_count": 23,
     "metadata": {},
     "output_type": "execute_result"
    }
   ],
   "source": [
    "# discard --> remove'dan tek farkı set içerisinde olmayan elamanı silmek istediğimizde hata vermez. \n",
    "books.discard(\"Müşterinizin Beynindeki Satın Alma Düğmesine Basmak\")\n",
    "\n",
    "books"
   ]
  },
  {
   "cell_type": "code",
   "execution_count": 24,
   "metadata": {},
   "outputs": [
    {
     "data": {
      "text/plain": [
       "{'Bu İş asla Tutmaz', 'Körlük', 'Merbaha Dünya', 'Serenad', 'İnce Memed'}"
      ]
     },
     "execution_count": 24,
     "metadata": {},
     "output_type": "execute_result"
    }
   ],
   "source": [
    "books.discard(\"Harry Potter\")\n",
    "books"
   ]
  },
  {
   "cell_type": "code",
   "execution_count": 25,
   "metadata": {},
   "outputs": [
    {
     "data": {
      "text/plain": [
       "{'Bu İş asla Tutmaz', 'Körlük', 'Merbaha Dünya', 'İnce Memed'}"
      ]
     },
     "execution_count": 25,
     "metadata": {},
     "output_type": "execute_result"
    }
   ],
   "source": [
    "# pop  --> set içerisinden herhangi bir elemanı siler.\n",
    "books.pop()\n",
    "\n",
    "books"
   ]
  },
  {
   "cell_type": "code",
   "execution_count": 26,
   "metadata": {},
   "outputs": [
    {
     "data": {
      "text/plain": [
       "set()"
      ]
     },
     "execution_count": 26,
     "metadata": {},
     "output_type": "execute_result"
    }
   ],
   "source": [
    "# clear  --> set içerisindeki tüm elemanları siler.\n",
    "books.clear()\n",
    "\n",
    "books"
   ]
  },
  {
   "cell_type": "code",
   "execution_count": 27,
   "metadata": {},
   "outputs": [
    {
     "ename": "NameError",
     "evalue": "name 'books' is not defined",
     "output_type": "error",
     "traceback": [
      "\u001b[1;31m---------------------------------------------------------------------------\u001b[0m",
      "\u001b[1;31mNameError\u001b[0m                                 Traceback (most recent call last)",
      "Cell \u001b[1;32mIn [27], line 4\u001b[0m\n\u001b[0;32m      1\u001b[0m \u001b[39m# del --> tüm seti siler.\u001b[39;00m\n\u001b[0;32m      2\u001b[0m \u001b[39mdel\u001b[39;00m books\n\u001b[1;32m----> 4\u001b[0m books\n",
      "\u001b[1;31mNameError\u001b[0m: name 'books' is not defined"
     ]
    }
   ],
   "source": [
    "# del --> tüm seti siler.\n",
    "del books\n",
    "\n",
    "books"
   ]
  },
  {
   "cell_type": "markdown",
   "metadata": {},
   "source": [
    "---"
   ]
  },
  {
   "cell_type": "markdown",
   "metadata": {},
   "source": [
    "**Set üzerinde kullanabileceğimiz operatörler**\n",
    "\n",
    "* union() -->  |\n",
    "* intersection() --> &\n",
    "* difference() --> -\n",
    "* symetric difference() --> ^"
   ]
  },
  {
   "cell_type": "markdown",
   "metadata": {},
   "source": [
    "---"
   ]
  },
  {
   "cell_type": "markdown",
   "metadata": {},
   "source": [
    "**Union()**\n",
    "\n",
    "İki seti birleştirmek için kullanılır.\n",
    "\n",
    "Kümelerde olduğu gibi iki kümenin birleşimi mantığı ile çalışır. \n",
    "\n",
    "Birden fazla yazan elemanlar bir kere yazılır."
   ]
  },
  {
   "cell_type": "code",
   "execution_count": 28,
   "metadata": {},
   "outputs": [
    {
     "data": {
      "text/plain": [
       "{'Aysel', 'Burcu', 'Büşra', 'Ece', 'Emre', 'Ezgi', 'Merve', 'Sena'}"
      ]
     },
     "execution_count": 28,
     "metadata": {},
     "output_type": "execute_result"
    }
   ],
   "source": [
    "my_set1 = {\"Aysel\", \"Merve\", \"Emre\", \"Sena\",\"Ezgi\"}\n",
    "my_set2 = {\"Merve\", \"Ezgi\", \"Büşra\", \"Burcu\", \"Ece\"}\n",
    "\n",
    "my_set3 = my_set1 | my_set2\n",
    "my_set3"
   ]
  },
  {
   "cell_type": "code",
   "execution_count": 29,
   "metadata": {},
   "outputs": [
    {
     "data": {
      "text/plain": [
       "{'Aysel', 'Burcu', 'Büşra', 'Ece', 'Emre', 'Ezgi', 'Merve', 'Sena'}"
      ]
     },
     "execution_count": 29,
     "metadata": {},
     "output_type": "execute_result"
    }
   ],
   "source": [
    "my_set4 = my_set1.union(my_set2)\n",
    "\n",
    "my_set4"
   ]
  },
  {
   "cell_type": "markdown",
   "metadata": {},
   "source": [
    "---"
   ]
  },
  {
   "cell_type": "markdown",
   "metadata": {},
   "source": [
    "**Intersection()**\n",
    "\n",
    "Kesişim mantığı ile çalışır. \n",
    "\n",
    "İki set'in kesişim elemanlarını alır."
   ]
  },
  {
   "cell_type": "code",
   "execution_count": 30,
   "metadata": {},
   "outputs": [
    {
     "data": {
      "text/plain": [
       "{'Ezgi', 'Merve'}"
      ]
     },
     "execution_count": 30,
     "metadata": {},
     "output_type": "execute_result"
    }
   ],
   "source": [
    "my_set1 = {\"Aysel\", \"Merve\", \"Emre\", \"Sena\",\"Ezgi\"}\n",
    "my_set2 = {\"Merve\", \"Ezgi\", \"Büşra\", \"Burcu\", \"Ece\"}\n",
    "\n",
    "my_set3 = my_set1 & my_set2\n",
    "my_set3"
   ]
  },
  {
   "cell_type": "code",
   "execution_count": 31,
   "metadata": {},
   "outputs": [
    {
     "data": {
      "text/plain": [
       "{'Ezgi', 'Merve'}"
      ]
     },
     "execution_count": 31,
     "metadata": {},
     "output_type": "execute_result"
    }
   ],
   "source": [
    "my_set4 = my_set1.intersection(my_set2)\n",
    "\n",
    "my_set4"
   ]
  },
  {
   "cell_type": "markdown",
   "metadata": {},
   "source": [
    "**intersection_update**\n",
    "\n",
    "intersection() kullanımı iki set'in kesişimini alıp bu kesişim değerlerini yeni bir set olarak döndürür.\n",
    "\n",
    "Ancak intersection_update() kullanımında ise bu kesişimleri yazmış olduğumuz sete eşitler ve o set bu kesişim değerleri ile güncellenir."
   ]
  },
  {
   "cell_type": "code",
   "execution_count": 32,
   "metadata": {},
   "outputs": [
    {
     "data": {
      "text/plain": [
       "{'Ezgi', 'Merve'}"
      ]
     },
     "execution_count": 32,
     "metadata": {},
     "output_type": "execute_result"
    }
   ],
   "source": [
    "my_set1 = {\"Aysel\", \"Merve\", \"Emre\", \"Sena\",\"Ezgi\"}\n",
    "my_set2 = {\"Merve\", \"Ezgi\", \"Büşra\", \"Burcu\", \"Ece\"}\n",
    "\n",
    "my_set1.intersection_update(my_set2)\n",
    "my_set1"
   ]
  },
  {
   "cell_type": "markdown",
   "metadata": {},
   "source": [
    "Örneğin burada my_set1 set'i her iki set'in kesişim değerleri olan Ezgi ve Merve olarak güncellendi."
   ]
  },
  {
   "cell_type": "markdown",
   "metadata": {},
   "source": [
    "---"
   ]
  },
  {
   "cell_type": "markdown",
   "metadata": {},
   "source": [
    "**difference()**\n",
    "\n",
    "İki Set'in farkını alır."
   ]
  },
  {
   "cell_type": "code",
   "execution_count": 33,
   "metadata": {},
   "outputs": [
    {
     "data": {
      "text/plain": [
       "{'Aysel', 'Emre', 'Sena'}"
      ]
     },
     "execution_count": 33,
     "metadata": {},
     "output_type": "execute_result"
    }
   ],
   "source": [
    "my_set1 = {\"Aysel\", \"Merve\", \"Emre\", \"Sena\",\"Ezgi\"}\n",
    "my_set2 = {\"Merve\", \"Ezgi\", \"Büşra\", \"Burcu\", \"Ece\"}\n",
    "\n",
    "my_set3 = my_set1 - my_set2\n",
    "my_set3"
   ]
  },
  {
   "cell_type": "code",
   "execution_count": 44,
   "metadata": {},
   "outputs": [
    {
     "data": {
      "text/plain": [
       "{'Aysel', 'Emre', 'Sena'}"
      ]
     },
     "execution_count": 44,
     "metadata": {},
     "output_type": "execute_result"
    }
   ],
   "source": [
    "my_set1.difference(my_set2)  # yapılan bu işlem my_set1'i etkilememektedir."
   ]
  },
  {
   "cell_type": "code",
   "execution_count": 45,
   "metadata": {},
   "outputs": [
    {
     "data": {
      "text/plain": [
       "{'Aysel', 'Emre', 'Ezgi', 'Merve', 'Sena'}"
      ]
     },
     "execution_count": 45,
     "metadata": {},
     "output_type": "execute_result"
    }
   ],
   "source": [
    "my_set1"
   ]
  },
  {
   "cell_type": "code",
   "execution_count": 47,
   "metadata": {},
   "outputs": [],
   "source": [
    "my_set1.difference_update(my_set2)  \n",
    "# burada ise iki set arasındaki farı bulup o fark değerlerini Set'in yeni elamanları olarak güncellemiştir."
   ]
  },
  {
   "cell_type": "code",
   "execution_count": 48,
   "metadata": {},
   "outputs": [
    {
     "data": {
      "text/plain": [
       "{'Aysel', 'Emre', 'Sena'}"
      ]
     },
     "execution_count": 48,
     "metadata": {},
     "output_type": "execute_result"
    }
   ],
   "source": [
    "my_set1"
   ]
  },
  {
   "cell_type": "markdown",
   "metadata": {},
   "source": [
    "**Update** genel olarak Set'te güncelleme yapar. Yani yapılan işlem o set'in yeni halini oluşturur. Update ile yapılan işlemde bulunan değerler o set'in güncel değerlerini oluşturur."
   ]
  },
  {
   "cell_type": "markdown",
   "metadata": {},
   "source": [
    "---"
   ]
  },
  {
   "cell_type": "markdown",
   "metadata": {},
   "source": [
    "**Symmetric difference**\n",
    "\n",
    "Bu işlemde ise kümelerde ki mantıktan örnek vermek gerekirse a ve B kümelerinde yer alan değerleri alıp, ortak değerleri almayarak çalışır.\n",
    "\n",
    "AuB/AnB şeklinde çalışır."
   ]
  },
  {
   "cell_type": "code",
   "execution_count": 49,
   "metadata": {},
   "outputs": [
    {
     "data": {
      "text/plain": [
       "{'Aysel', 'Burcu', 'Büşra', 'Ece', 'Emre', 'Sena'}"
      ]
     },
     "execution_count": 49,
     "metadata": {},
     "output_type": "execute_result"
    }
   ],
   "source": [
    "my_set1 = {\"Aysel\", \"Merve\", \"Emre\", \"Sena\",\"Ezgi\"}\n",
    "my_set2 = {\"Merve\", \"Ezgi\", \"Büşra\", \"Burcu\", \"Ece\"}\n",
    "\n",
    "unique_set = my_set1 ^ my_set2\n",
    "unique_set"
   ]
  },
  {
   "cell_type": "code",
   "execution_count": 50,
   "metadata": {},
   "outputs": [
    {
     "data": {
      "text/plain": [
       "{'Aysel', 'Burcu', 'Büşra', 'Ece', 'Emre', 'Sena'}"
      ]
     },
     "execution_count": 50,
     "metadata": {},
     "output_type": "execute_result"
    }
   ],
   "source": [
    "unique_set2 = my_set2.symmetric_difference(my_set1)\n",
    "unique_set2"
   ]
  },
  {
   "cell_type": "code",
   "execution_count": 51,
   "metadata": {},
   "outputs": [
    {
     "data": {
      "text/plain": [
       "{'Aysel', 'Emre', 'Ezgi', 'Merve', 'Sena'}"
      ]
     },
     "execution_count": 51,
     "metadata": {},
     "output_type": "execute_result"
    }
   ],
   "source": [
    "my_set1.symmetric_difference(my_set2)\n",
    "\n",
    "my_set1"
   ]
  },
  {
   "cell_type": "markdown",
   "metadata": {},
   "source": [
    "---"
   ]
  },
  {
   "cell_type": "markdown",
   "metadata": {},
   "source": [
    "**Kopyalama İşlemleri**\n",
    "\n",
    "* copy() --> hangi set üzerinde değişiklik yapıyorsanız yalnızca o set etkilenir.\n",
    "* = --> Atama operatörü kullanılması durumunda ise iki sette etkilenmektedir."
   ]
  },
  {
   "cell_type": "code",
   "execution_count": 52,
   "metadata": {},
   "outputs": [
    {
     "data": {
      "text/plain": [
       "{18, 'Ahmet', 'Sezen', True, 'Vildan'}"
      ]
     },
     "execution_count": 52,
     "metadata": {},
     "output_type": "execute_result"
    }
   ],
   "source": [
    "my_set = {\"Sezen\", \"Ahmet\", True, 18}\n",
    "my_set2 = my_set\n",
    "\n",
    "my_set.add(\"Vildan\")\n",
    "my_set2                \n",
    "# Örneğin burda setler birbirine eşitlendiği için my_set içerisine eklenen değer my_set2 değerine de eklenmiş oldu."
   ]
  },
  {
   "cell_type": "code",
   "execution_count": 53,
   "metadata": {},
   "outputs": [
    {
     "data": {
      "text/plain": [
       "{18, 'Ahmet', 'Sezen', True}"
      ]
     },
     "execution_count": 53,
     "metadata": {},
     "output_type": "execute_result"
    }
   ],
   "source": [
    "my_set = {\"Sezen\", \"Ahmet\", True, 18}\n",
    "my_set2 = my_set.copy()\n",
    "\n",
    "my_set.add(\"Vildan\")\n",
    "my_set2  \n",
    "# Burda ise copy metodu ile esas set üzerinde yapılan değişikliklerin kopya üzerinde herhangi bir etkisinin olmadığını görmekteyiz.  "
   ]
  },
  {
   "cell_type": "code",
   "execution_count": 54,
   "metadata": {},
   "outputs": [
    {
     "data": {
      "text/plain": [
       "{18, 'Ahmet', 'Sezen', True}"
      ]
     },
     "execution_count": 54,
     "metadata": {},
     "output_type": "execute_result"
    }
   ],
   "source": [
    "my_set = {\"Sezen\", \"Ahmet\", True, 18}\n",
    "my_set2 = set(my_set)\n",
    "\n",
    "my_set.add(\"Vildan\")\n",
    "my_set2  \n",
    "# Set, copy ile aynı mantıkta çalışmaktadır."
   ]
  },
  {
   "cell_type": "markdown",
   "metadata": {},
   "source": [
    "----"
   ]
  },
  {
   "cell_type": "markdown",
   "metadata": {},
   "source": [
    "**subset and superset**\n",
    "\n",
    "* superset = üst küme midir? şeklinde sorgular\n",
    "* subset = alt küme midir? şeklinde sorgular"
   ]
  },
  {
   "cell_type": "code",
   "execution_count": 55,
   "metadata": {},
   "outputs": [
    {
     "name": "stdout",
     "output_type": "stream",
     "text": [
      "True\n",
      "False\n"
     ]
    }
   ],
   "source": [
    "languages = {\"python\", \"c#\", \"java\", \"kotlin\", \"dart\"}\n",
    "languages2 = {\"kotlin\", \"java\"}\n",
    "\n",
    "print(languages.issuperset(languages2))   # languages , languages2 nun üst kümesi midir?\n",
    "print(languages.issubset(languages2))     # languages, languages2 nin alt kümesi midir?\n",
    "\n",
    "# ilk küme ikinci kümenin alt/üst kümesi midir? şeklinde çalışır."
   ]
  },
  {
   "cell_type": "markdown",
   "metadata": {},
   "source": [
    "----"
   ]
  },
  {
   "cell_type": "markdown",
   "metadata": {},
   "source": [
    "**isdisjoint()** --> iki kümenin ayrık kümeler olup olmadığını kontrol eder."
   ]
  },
  {
   "cell_type": "code",
   "execution_count": 56,
   "metadata": {},
   "outputs": [
    {
     "name": "stdout",
     "output_type": "stream",
     "text": [
      "False\n"
     ]
    }
   ],
   "source": [
    "languages = {\"python\", \"c#\", \"java\", \"kotlin\", \"dart\"}\n",
    "languages2 = {\"kotlin\", \"java\", \"flutter\"}\n",
    "\n",
    "print(languages.isdisjoint(languages2))\n",
    "\n",
    "# Bu iki kümenin ortak elemanları olduğu için bu iki küme ayrık değildir. False değeri döndürür."
   ]
  },
  {
   "cell_type": "code",
   "execution_count": 57,
   "metadata": {},
   "outputs": [
    {
     "name": "stdout",
     "output_type": "stream",
     "text": [
      "True\n"
     ]
    }
   ],
   "source": [
    "languages = {\"python\", \"c#\", \"java\", \"kotlin\", \"dart\"}\n",
    "languages2 = {\"flutter\"}\n",
    "\n",
    "print(languages.isdisjoint(languages2))"
   ]
  },
  {
   "cell_type": "markdown",
   "metadata": {},
   "source": [
    "----\n"
   ]
  },
  {
   "cell_type": "markdown",
   "metadata": {},
   "source": [
    "**Frozenset** --> değiştirilemez bir set oluşturulmak istenildiğinde kullanılır.\n",
    "\n",
    "!! Frozenset ile değiştirilemez hale getirilmiş bir sette update işlemleri kullanılamamaktadır. Çünkü update ile set elde elde edilen sonuçtaki veriler ile güncellenmekteydi ancak frozenset değiştirilemez haldedir."
   ]
  },
  {
   "cell_type": "code",
   "execution_count": 58,
   "metadata": {},
   "outputs": [],
   "source": [
    "frozen_set = frozenset({\"Eda\", \"Merve\", \"Büşra\", \"Nur\"})\n"
   ]
  },
  {
   "cell_type": "code",
   "execution_count": 59,
   "metadata": {},
   "outputs": [
    {
     "ename": "AttributeError",
     "evalue": "'frozenset' object has no attribute 'add'",
     "output_type": "error",
     "traceback": [
      "\u001b[1;31m---------------------------------------------------------------------------\u001b[0m",
      "\u001b[1;31mAttributeError\u001b[0m                            Traceback (most recent call last)",
      "Cell \u001b[1;32mIn [59], line 1\u001b[0m\n\u001b[1;32m----> 1\u001b[0m frozen_set\u001b[39m.\u001b[39;49madd(\u001b[39m6\u001b[39m)\n",
      "\u001b[1;31mAttributeError\u001b[0m: 'frozenset' object has no attribute 'add'"
     ]
    }
   ],
   "source": [
    "frozen_set.add(6)  # Bu işlem hata verecektir çünkü bu seti frozenset özelliği ile değiştirilemez hale getirmiştik."
   ]
  },
  {
   "cell_type": "markdown",
   "metadata": {},
   "source": [
    "---\n",
    "**Sorular**"
   ]
  },
  {
   "cell_type": "code",
   "execution_count": 60,
   "metadata": {},
   "outputs": [
    {
     "name": "stdout",
     "output_type": "stream",
     "text": [
      "{10, 80, 20, 60, 30}\n"
     ]
    }
   ],
   "source": [
    "# İki set içerisinde yer alan benzersiz elemanları ekrana basalım.\n",
    "my_set1 = {10, 20, 30, 40, 50}\n",
    "my_set2 = {40, 50, 60, 80}\n",
    "\n",
    "print(my_set1.symmetric_difference(my_set2))"
   ]
  },
  {
   "cell_type": "code",
   "execution_count": 61,
   "metadata": {},
   "outputs": [
    {
     "data": {
      "text/plain": [
       "{0, 1, 2, 3, 4, 7, 9}"
      ]
     },
     "execution_count": 61,
     "metadata": {},
     "output_type": "execute_result"
    }
   ],
   "source": [
    "# Bir listenin içindeki tüm elemanları bir sete ekleyelim.\n",
    "my_list = [1, 2, 9, 3, 4]\n",
    "my_set = {1, 4, 7, 9, 0}\n",
    "\n",
    "my_set.update(my_list)\n",
    "my_set"
   ]
  },
  {
   "cell_type": "code",
   "execution_count": 64,
   "metadata": {},
   "outputs": [
    {
     "data": {
      "text/plain": [
       "{1, 3, 5, 7, 9}"
      ]
     },
     "execution_count": 64,
     "metadata": {},
     "output_type": "execute_result"
    }
   ],
   "source": [
    "# Bir set içerisindeki çift sayıları silelim.\n",
    "my_set = {1, 2, 3, 4, 5, 6, 7, 8, 9, 10}\n",
    "my_list = []\n",
    "for i in my_set:\n",
    "    if i % 2 ==0:\n",
    "        my_list.append(i)\n",
    "\n",
    "for i in my_list:\n",
    "    my_set.remove(i)\n",
    "\n",
    "my_set"
   ]
  },
  {
   "cell_type": "code",
   "execution_count": 69,
   "metadata": {},
   "outputs": [
    {
     "data": {
      "text/plain": [
       "[1, 3, 5, 7, 9]"
      ]
     },
     "execution_count": 69,
     "metadata": {},
     "output_type": "execute_result"
    }
   ],
   "source": [
    "my_set = {1, 2, 3, 4, 5, 6, 7, 8, 9, 10}\n",
    "my_list = [i for i in my_set if i % 2 == 1]\n",
    "\n",
    "my_list\n",
    "\n",
    "# List comprehension"
   ]
  },
  {
   "cell_type": "markdown",
   "metadata": {},
   "source": [
    "---\n",
    "1) my_list = [i for i in my_set if i % 2 == 0]\n",
    "\n",
    "2) my_list = []\n",
    "   for i in my_set:\n",
    "      if i % 2 ==0:\n",
    "         my_list.append(i)\n",
    "\n",
    "\n",
    "* 1 ve 2 numarada gösterilen her iki işlemde aynı şekilde çalışmakta ve aynı sonucu döndürmektedir. \n",
    "\n",
    "---"
   ]
  }
 ],
 "metadata": {
  "kernelspec": {
   "display_name": "Python 3.10.5 32-bit",
   "language": "python",
   "name": "python3"
  },
  "language_info": {
   "codemirror_mode": {
    "name": "ipython",
    "version": 3
   },
   "file_extension": ".py",
   "mimetype": "text/x-python",
   "name": "python",
   "nbconvert_exporter": "python",
   "pygments_lexer": "ipython3",
   "version": "3.10.5"
  },
  "orig_nbformat": 4,
  "vscode": {
   "interpreter": {
    "hash": "3a76228ad2be0688f8ad5f22cd5a5c34eb0a8c6f0341e9e6e30d2b6319109a87"
   }
  }
 },
 "nbformat": 4,
 "nbformat_minor": 2
}
