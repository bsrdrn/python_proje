{
 "cells": [
  {
   "cell_type": "markdown",
   "metadata": {},
   "source": [
    "**Veri Yapıları**\n",
    "\n",
    "* List\n",
    "* Tuple\n",
    "* Set\n",
    "* Dictionary\n"
   ]
  },
  {
   "cell_type": "markdown",
   "metadata": {},
   "source": [
    "**1) Listeler**\n",
    "\n",
    "* index ile erişilebilir, ordered yanı sıralıdır.\n",
    "* mutable (değiştirilebilir) yapıdadır. Yani liste içine eklenen bir veri değiştirilebilmektedir.\n",
    "* Köşeli parantez içerisinde tanımlanır ve liste elemanları virgüller ile ayrılır. [, , ,]\n",
    "* Farklı tipte veriler içerebilmektedir.\n",
    "* Aynı değerlere sahip iki elemana sahip olabilir. Yani duplicate veri barındırabilmektedir."
   ]
  },
  {
   "cell_type": "code",
   "execution_count": 4,
   "metadata": {},
   "outputs": [],
   "source": [
    "list_int = [5, 9, 8, 3, -1, 1]\n",
    "list_string = [\"Aysel\", \"Merve\", \"Büşra\", \"Ayşegül\"]\n",
    "list_bool = [True, False]\n",
    "list_float = [4.2, 8.5, 13.6, 24.1]\n",
    "\n",
    "list_mix = [\"Büşra\", 23, 12500, True, 24.1]"
   ]
  },
  {
   "cell_type": "markdown",
   "metadata": {},
   "source": [
    "Elemanlara index ile erişim"
   ]
  },
  {
   "cell_type": "code",
   "execution_count": 7,
   "metadata": {},
   "outputs": [
    {
     "name": "stdout",
     "output_type": "stream",
     "text": [
      "['Büşra', 23, 12500, True, 24.1]\n",
      "\n",
      "Pozitif indexler ile erişim\n",
      "0. index değeri:  Büşra\n",
      "1. index değeri:  23\n",
      "2. index değeri:  12500\n",
      "\n",
      "Negatif indexler ile erişim\n",
      "-1. index değeri:  24.1\n",
      "-2. index değeri:  True\n",
      "-3. index değeri:  12500\n"
     ]
    }
   ],
   "source": [
    "print(list_mix)\n",
    "# Pozitif indexler ile erişim\n",
    "print(\"\\nPozitif indexler ile erişim\")\n",
    "print(\"0. index değeri: \", list_mix[0])\n",
    "print(\"1. index değeri: \", list_mix[1])\n",
    "print(\"2. index değeri: \", list_mix[2])\n",
    "# Negatif indexler ile erişim\n",
    "print(\"\\nNegatif indexler ile erişim\")\n",
    "print(\"-1. index değeri: \", list_mix[-1])\n",
    "print(\"-2. index değeri: \", list_mix[-2])\n",
    "print(\"-3. index değeri: \", list_mix[-3])"
   ]
  },
  {
   "cell_type": "code",
   "execution_count": 8,
   "metadata": {},
   "outputs": [
    {
     "ename": "IndexError",
     "evalue": "list index out of range",
     "output_type": "error",
     "traceback": [
      "\u001b[1;31m---------------------------------------------------------------------------\u001b[0m",
      "\u001b[1;31mIndexError\u001b[0m                                Traceback (most recent call last)",
      "Cell \u001b[1;32mIn [8], line 1\u001b[0m\n\u001b[1;32m----> 1\u001b[0m \u001b[43mlist_mix\u001b[49m\u001b[43m[\u001b[49m\u001b[38;5;241;43m7\u001b[39;49m\u001b[43m]\u001b[49m\n",
      "\u001b[1;31mIndexError\u001b[0m: list index out of range"
     ]
    }
   ],
   "source": [
    "list_mix[7] \n",
    "list_mix[2.3]\n",
    "\n",
    "# Listenin aralığını aşan bir index değeri girilemez ve index değeri tam sayı olmak zorundadır."
   ]
  },
  {
   "cell_type": "markdown",
   "metadata": {},
   "source": [
    "Listelerde Uzunluk"
   ]
  },
  {
   "cell_type": "code",
   "execution_count": 9,
   "metadata": {},
   "outputs": [
    {
     "name": "stdout",
     "output_type": "stream",
     "text": [
      "['Büşra', 23, 12500, True, 24.1]\n",
      "Listemizin uzunluğu:  5\n"
     ]
    }
   ],
   "source": [
    "print(list_mix)\n",
    "print(\"Listemizin uzunluğu: \", len(list_mix))"
   ]
  }
 ],
 "metadata": {
  "kernelspec": {
   "display_name": "Python 3.10.5 32-bit",
   "language": "python",
   "name": "python3"
  },
  "language_info": {
   "codemirror_mode": {
    "name": "ipython",
    "version": 3
   },
   "file_extension": ".py",
   "mimetype": "text/x-python",
   "name": "python",
   "nbconvert_exporter": "python",
   "pygments_lexer": "ipython3",
   "version": "3.10.5"
  },
  "orig_nbformat": 4,
  "vscode": {
   "interpreter": {
    "hash": "3a76228ad2be0688f8ad5f22cd5a5c34eb0a8c6f0341e9e6e30d2b6319109a87"
   }
  }
 },
 "nbformat": 4,
 "nbformat_minor": 2
}
