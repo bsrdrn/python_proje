{
 "cells": [
  {
   "cell_type": "markdown",
   "metadata": {},
   "source": [
    "**Veri Yapıları**\n",
    "\n",
    "* List\n",
    "* Tuple\n",
    "* Set\n",
    "* Dictionary\n"
   ]
  },
  {
   "cell_type": "markdown",
   "metadata": {},
   "source": [
    "**1) Listeler**\n",
    "\n",
    "* index ile erişilebilir, ordered yanı sıralıdır.\n",
    "* mutable (değiştirilebilir) yapıdadır. Yani liste içine eklenen bir veri değiştirilebilmektedir.\n",
    "* Köşeli parantez içerisinde tanımlanır ve liste elemanları virgüller ile ayrılır. [, , ,]\n",
    "* Farklı tipte veriler içerebilmektedir.\n",
    "* Aynı değerlere sahip iki elemana sahip olabilir. Yani duplicate veri barındırabilmektedir."
   ]
  },
  {
   "cell_type": "code",
   "execution_count": 4,
   "metadata": {},
   "outputs": [],
   "source": [
    "list_int = [5, 9, 8, 3, -1, 1]\n",
    "list_string = [\"Aysel\", \"Merve\", \"Büşra\", \"Ayşegül\"]\n",
    "list_bool = [True, False]\n",
    "list_float = [4.2, 8.5, 13.6, 24.1]\n",
    "\n",
    "list_mix = [\"Büşra\", 23, 12500, True, 24.1]"
   ]
  },
  {
   "cell_type": "markdown",
   "metadata": {},
   "source": [
    "Elemanlara index ile erişim"
   ]
  },
  {
   "cell_type": "code",
   "execution_count": 7,
   "metadata": {},
   "outputs": [
    {
     "name": "stdout",
     "output_type": "stream",
     "text": [
      "['Büşra', 23, 12500, True, 24.1]\n",
      "\n",
      "Pozitif indexler ile erişim\n",
      "0. index değeri:  Büşra\n",
      "1. index değeri:  23\n",
      "2. index değeri:  12500\n",
      "\n",
      "Negatif indexler ile erişim\n",
      "-1. index değeri:  24.1\n",
      "-2. index değeri:  True\n",
      "-3. index değeri:  12500\n"
     ]
    }
   ],
   "source": [
    "print(list_mix)\n",
    "# Pozitif indexler ile erişim\n",
    "print(\"\\nPozitif indexler ile erişim\")\n",
    "print(\"0. index değeri: \", list_mix[0])\n",
    "print(\"1. index değeri: \", list_mix[1])\n",
    "print(\"2. index değeri: \", list_mix[2])\n",
    "# Negatif indexler ile erişim\n",
    "print(\"\\nNegatif indexler ile erişim\")\n",
    "print(\"-1. index değeri: \", list_mix[-1])\n",
    "print(\"-2. index değeri: \", list_mix[-2])\n",
    "print(\"-3. index değeri: \", list_mix[-3])"
   ]
  },
  {
   "cell_type": "code",
   "execution_count": 8,
   "metadata": {},
   "outputs": [
    {
     "ename": "IndexError",
     "evalue": "list index out of range",
     "output_type": "error",
     "traceback": [
      "\u001b[1;31m---------------------------------------------------------------------------\u001b[0m",
      "\u001b[1;31mIndexError\u001b[0m                                Traceback (most recent call last)",
      "Cell \u001b[1;32mIn [8], line 1\u001b[0m\n\u001b[1;32m----> 1\u001b[0m \u001b[43mlist_mix\u001b[49m\u001b[43m[\u001b[49m\u001b[38;5;241;43m7\u001b[39;49m\u001b[43m]\u001b[49m\n",
      "\u001b[1;31mIndexError\u001b[0m: list index out of range"
     ]
    }
   ],
   "source": [
    "list_mix[7] \n",
    "list_mix[2.3]\n",
    "\n",
    "# Listenin aralığını aşan bir index değeri girilemez ve index değeri tam sayı olmak zorundadır."
   ]
  },
  {
   "cell_type": "markdown",
   "metadata": {},
   "source": [
    "Listelerde Uzunluk"
   ]
  },
  {
   "cell_type": "code",
   "execution_count": 9,
   "metadata": {},
   "outputs": [
    {
     "name": "stdout",
     "output_type": "stream",
     "text": [
      "['Büşra', 23, 12500, True, 24.1]\n",
      "Listemizin uzunluğu:  5\n"
     ]
    }
   ],
   "source": [
    "print(list_mix)\n",
    "print(\"Listemizin uzunluğu: \", len(list_mix))"
   ]
  },
  {
   "cell_type": "markdown",
   "metadata": {},
   "source": [
    "**Slicing**"
   ]
  },
  {
   "cell_type": "code",
   "execution_count": 1,
   "metadata": {},
   "outputs": [
    {
     "name": "stdout",
     "output_type": "stream",
     "text": [
      "['Büşra', 23, 'Industrial Engineer', True, 15000.34, 'Merve', 'Ayşegül', 'Burcu']\n"
     ]
    }
   ],
   "source": [
    "my_list = [\"Büşra\", 23, \"Industrial Engineer\", True, 15000.34 , \"Merve\", \"Ayşegül\", \"Burcu\"]\n",
    "\n",
    "print(my_list)"
   ]
  },
  {
   "cell_type": "code",
   "execution_count": 2,
   "metadata": {},
   "outputs": [
    {
     "name": "stdout",
     "output_type": "stream",
     "text": [
      "['Büşra', 23, 'Industrial Engineer', True]\n"
     ]
    }
   ],
   "source": [
    "# ilk dört elemanı ekrana basalım.\n",
    "print(my_list[0:4])"
   ]
  },
  {
   "cell_type": "code",
   "execution_count": 3,
   "metadata": {},
   "outputs": [
    {
     "name": "stdout",
     "output_type": "stream",
     "text": [
      "['Büşra', 'Industrial Engineer', 15000.34, 'Ayşegül']\n"
     ]
    }
   ],
   "source": [
    "# her iki elemanda bir elemanları ekrana basalım.\n",
    "print(my_list[::2])"
   ]
  },
  {
   "cell_type": "code",
   "execution_count": 4,
   "metadata": {},
   "outputs": [
    {
     "name": "stdout",
     "output_type": "stream",
     "text": [
      "['Industrial Engineer', True, 15000.34]\n"
     ]
    }
   ],
   "source": [
    "# Belirlik bir aralıktaki elemanları basalım.\n",
    "print(my_list[2:5])"
   ]
  },
  {
   "cell_type": "code",
   "execution_count": 5,
   "metadata": {},
   "outputs": [
    {
     "name": "stdout",
     "output_type": "stream",
     "text": [
      "['Burcu', 'Ayşegül', 'Merve', 15000.34, True, 'Industrial Engineer', 23, 'Büşra']\n"
     ]
    }
   ],
   "source": [
    "# Listeyi tersten yazdıralım.\n",
    "print(my_list[::-1])"
   ]
  },
  {
   "cell_type": "markdown",
   "metadata": {},
   "source": [
    "Döngüler ile Listenin Elemanlarını Yazdırma"
   ]
  },
  {
   "cell_type": "code",
   "execution_count": 6,
   "metadata": {},
   "outputs": [
    {
     "name": "stdout",
     "output_type": "stream",
     "text": [
      "Büşra\n",
      "23\n",
      "Industrial Engineer\n",
      "True\n",
      "15000.34\n",
      "Merve\n",
      "Ayşegül\n",
      "Burcu\n"
     ]
    }
   ],
   "source": [
    "my_list = [\"Büşra\", 23, \"Industrial Engineer\", True, 15000.34 , \"Merve\", \"Ayşegül\", \"Burcu\"]\n",
    "\n",
    "for item in my_list:\n",
    "    print(item)"
   ]
  },
  {
   "cell_type": "code",
   "execution_count": 7,
   "metadata": {},
   "outputs": [
    {
     "name": "stdout",
     "output_type": "stream",
     "text": [
      "Büşra\n",
      "23\n",
      "Industrial Engineer\n"
     ]
    }
   ],
   "source": [
    "my_list = [\"Büşra\", 23, \"Industrial Engineer\", True, 15000.34 , \"Merve\", \"Ayşegül\", \"Burcu\"]\n",
    "\n",
    "for item in my_list[:3]:\n",
    "    print(item)"
   ]
  },
  {
   "cell_type": "markdown",
   "metadata": {},
   "source": [
    "Elemanları yan yana gösterelim"
   ]
  },
  {
   "cell_type": "code",
   "execution_count": 8,
   "metadata": {},
   "outputs": [
    {
     "name": "stdout",
     "output_type": "stream",
     "text": [
      "Büşra - 23 - Industrial Engineer - True - 15000.34 - Merve - Ayşegül - Burcu - "
     ]
    }
   ],
   "source": [
    "for item in my_list:\n",
    "    print(item, end=\" - \")"
   ]
  },
  {
   "cell_type": "markdown",
   "metadata": {},
   "source": [
    "İndexler üzerinden erişim"
   ]
  },
  {
   "cell_type": "code",
   "execution_count": 11,
   "metadata": {},
   "outputs": [
    {
     "name": "stdout",
     "output_type": "stream",
     "text": [
      "0. index değeri: Büşra\n",
      "1. index değeri: 23\n",
      "2. index değeri: Industrial Engineer\n",
      "3. index değeri: True\n",
      "4. index değeri: 15000.34\n",
      "5. index değeri: Merve\n",
      "6. index değeri: Ayşegül\n",
      "7. index değeri: Burcu\n"
     ]
    }
   ],
   "source": [
    "for i in range(0, len(my_list)):\n",
    "    print(f\"{i}. index değeri: {my_list[i]}\")"
   ]
  },
  {
   "cell_type": "markdown",
   "metadata": {},
   "source": [
    "Listelere Eleman Ekleme\n",
    "\n",
    "* append = Listenin sonuna eleman eklemek için kullanılır.\n",
    "* insert = İstenen indexe yeni veri ekler.\n",
    "* extend = Listenin sonuna eleman eklenir. Append'den farklı olarak birdden fazla eleman eklemeye izin verir. Eklenecek elemanlar parantez içerisine liste formatında yazılır. Ayrıca extend ile listeler birleştirilebilmektedir."
   ]
  },
  {
   "cell_type": "code",
   "execution_count": 12,
   "metadata": {},
   "outputs": [
    {
     "name": "stdout",
     "output_type": "stream",
     "text": [
      "['Büşra', 23, 'Industrial Engineer', True, 15000.34, 'Merve', 'Ayşegül', 'Burcu']\n",
      "['Büşra', 23, 'Industrial Engineer', True, 15000.34, 'Merve', 'Ayşegül', 'Burcu', 'Eda']\n"
     ]
    }
   ],
   "source": [
    "my_list = [\"Büşra\", 23, \"Industrial Engineer\", True, 15000.34 , \"Merve\", \"Ayşegül\", \"Burcu\"]\n",
    "print(my_list)\n",
    "\n",
    "my_list.append(\"Eda\")\n",
    "print(my_list)"
   ]
  },
  {
   "cell_type": "code",
   "execution_count": 13,
   "metadata": {},
   "outputs": [
    {
     "name": "stdout",
     "output_type": "stream",
     "text": [
      "['Büşra', 23, 'Industrial Engineer', True, 15000.34, 'Merve', 'Ayşegül', 'Burcu', 'Eda']\n",
      "['Betül', 'Büşra', 23, 'Industrial Engineer', True, 15000.34, 'Merve', 'Ayşegül', 'Burcu', 'Eda']\n"
     ]
    }
   ],
   "source": [
    "print(my_list)\n",
    "\n",
    "my_list.insert(0, \"Betül\")\n",
    "print(my_list)"
   ]
  },
  {
   "cell_type": "code",
   "execution_count": 16,
   "metadata": {},
   "outputs": [
    {
     "name": "stdout",
     "output_type": "stream",
     "text": [
      "['Büşra', 23, 'Industrial Engineer', True, 15000.34, 'Merve', 'Ayşegül', 'Burcu']\n",
      "['Büşra', 23, 'Industrial Engineer', True, 15000.34, 'Merve', 'Ayşegül', 'Burcu', 1, 2, 3, 4]\n"
     ]
    }
   ],
   "source": [
    "my_list = [\"Büşra\", 23, \"Industrial Engineer\", True, 15000.34 , \"Merve\", \"Ayşegül\", \"Burcu\"]\n",
    "print(my_list)\n",
    "\n",
    "my_list.extend([1, 2, 3, 4])\n",
    "print(my_list)"
   ]
  },
  {
   "cell_type": "markdown",
   "metadata": {},
   "source": [
    "Liste elemanları üzerinde değişiklik"
   ]
  },
  {
   "cell_type": "code",
   "execution_count": 17,
   "metadata": {},
   "outputs": [
    {
     "name": "stdout",
     "output_type": "stream",
     "text": [
      "Önceki Hali:  [1, 2, 6, 8, 9, 7]\n",
      "Sonraki Hali:  [12, 2, 6, 8, 9, 7]\n"
     ]
    }
   ],
   "source": [
    "my_list = [1, 2, 6 , 8, 9, 7]\n",
    "print(\"Önceki Hali: \", my_list)\n",
    "\n",
    "my_list[0] = 12\n",
    "print(\"Sonraki Hali: \", my_list)"
   ]
  },
  {
   "cell_type": "code",
   "execution_count": 18,
   "metadata": {},
   "outputs": [
    {
     "name": "stdout",
     "output_type": "stream",
     "text": [
      "Önceki Hali:  [12, 2, 6, 8, 9, 7]\n",
      "Sonraki Hali:  [12, 21, 23, 25, 9, 7]\n"
     ]
    }
   ],
   "source": [
    "print(\"Önceki Hali: \", my_list)\n",
    "\n",
    "my_list[1:4] = [21,  23, 25]\n",
    "print(\"Sonraki Hali: \", my_list)"
   ]
  },
  {
   "cell_type": "code",
   "execution_count": 19,
   "metadata": {},
   "outputs": [
    {
     "name": "stdout",
     "output_type": "stream",
     "text": [
      "Önceki Hali:  [1, 4, 6, 7, 8, 3]\n",
      "Sonraki Hali:  [2, 5, 7, 8, 9, 4]\n"
     ]
    }
   ],
   "source": [
    "# Listenin tüm elemanlarına 1 ekleyelim.\n",
    "\n",
    "my_list = [1, 4, 6, 7, 8, 3] \n",
    "print(\"Önceki Hali: \", my_list)\n",
    "\n",
    "for i in range(0, len(my_list)):\n",
    "    my_list[i] += 1\n",
    "\n",
    "print(\"Sonraki Hali: \", my_list)"
   ]
  },
  {
   "cell_type": "markdown",
   "metadata": {},
   "source": [
    "**Listeden Eleman Silme**\n",
    "\n",
    "* remove = Listenin içindeki değeri verilen ilk elemanı siler.\n",
    "* pop = Listede belirtilen indexteki elemanı siler. index belirtilmediği durumlarda son elemanı siler.\n",
    "* clear = Liste içindeki tüm elemanları siler ve çıktı olarak boş liste dçndürür.\n",
    "* del = Listeyi tamamen siler."
   ]
  },
  {
   "cell_type": "code",
   "execution_count": 22,
   "metadata": {},
   "outputs": [],
   "source": [
    "my_list = [0, 1, 2, 3, 4, 1, 5, 6, 7, 8, 1, 9, 10, 11, 2, 12, 13]"
   ]
  },
  {
   "cell_type": "code",
   "execution_count": 23,
   "metadata": {},
   "outputs": [
    {
     "name": "stdout",
     "output_type": "stream",
     "text": [
      "Önceki Hali:  [0, 1, 2, 3, 4, 1, 5, 6, 7, 8, 1, 9, 10, 11, 2, 12, 13]\n",
      "Sonraki Hali:  [0, 2, 3, 4, 1, 5, 6, 7, 8, 1, 9, 10, 11, 2, 12, 13]\n"
     ]
    }
   ],
   "source": [
    "print(\"Önceki Hali: \", my_list)\n",
    "\n",
    "my_list.remove(1)\n",
    "print(\"Sonraki Hali: \", my_list)  #Listede bulduğu ilk 1 değerini kaldırır."
   ]
  },
  {
   "cell_type": "code",
   "execution_count": 25,
   "metadata": {},
   "outputs": [
    {
     "name": "stdout",
     "output_type": "stream",
     "text": [
      "Önceki Hali:  ['Öykü', 'Betül', 'Gamze', 'İrem', 'Nihal', 'İrem', 'Öykü', 'Öykü']\n",
      "İkinci Hali:  ['Öykü', 'Betül', 'Gamze', 'İrem', 'Nihal', 'İrem', 'Öykü']\n",
      "Sonraki Hali:  ['Öykü', 'Betül', 'İrem', 'Nihal', 'İrem', 'Öykü']\n"
     ]
    }
   ],
   "source": [
    "my_list = [\"Öykü\", \"Betül\", \"Gamze\", \"İrem\", \"Nihal\", \"İrem\", \"Öykü\", \"Öykü\"]\n",
    "print(\"Önceki Hali: \", my_list)\n",
    "\n",
    "my_list.pop()\n",
    "print(\"İkinci Hali: \", my_list) \n",
    "my_list.pop(2)\n",
    "\n",
    "print(\"Sonraki Hali: \", my_list) "
   ]
  },
  {
   "cell_type": "code",
   "execution_count": 27,
   "metadata": {},
   "outputs": [
    {
     "name": "stdout",
     "output_type": "stream",
     "text": [
      "['Öykü', 'Betül', 'Gamze', 'İrem', 'Nihal', 'İrem', 'Öykü', 'Öykü']\n",
      "['Öykü', 'İrem', 'Nihal', 'İrem', 'Öykü', 'Öykü']\n"
     ]
    },
    {
     "ename": "NameError",
     "evalue": "name 'my_list' is not defined",
     "output_type": "error",
     "traceback": [
      "\u001b[1;31m---------------------------------------------------------------------------\u001b[0m",
      "\u001b[1;31mNameError\u001b[0m                                 Traceback (most recent call last)",
      "Cell \u001b[1;32mIn [27], line 8\u001b[0m\n\u001b[0;32m      5\u001b[0m \u001b[38;5;28mprint\u001b[39m(my_list)\n\u001b[0;32m      7\u001b[0m \u001b[38;5;28;01mdel\u001b[39;00m my_list       \u001b[38;5;66;03m#tamamen siler\u001b[39;00m\n\u001b[1;32m----> 8\u001b[0m \u001b[38;5;28mprint\u001b[39m(\u001b[43mmy_list\u001b[49m)\n",
      "\u001b[1;31mNameError\u001b[0m: name 'my_list' is not defined"
     ]
    }
   ],
   "source": [
    "my_list = [\"Öykü\", \"Betül\", \"Gamze\", \"İrem\", \"Nihal\", \"İrem\", \"Öykü\", \"Öykü\"]\n",
    "print(my_list) \n",
    "\n",
    "del my_list[1:3]  #Belirtilen aralıktaki değerleri siler\n",
    "print(my_list)\n",
    "\n",
    "del my_list       #tamamen siler\n",
    "print(my_list) "
   ]
  },
  {
   "cell_type": "code",
   "execution_count": 29,
   "metadata": {},
   "outputs": [
    {
     "name": "stdout",
     "output_type": "stream",
     "text": [
      "['Öykü', 'Betül', 'Gamze', 'İrem', 'Nihal', 'İrem', 'Öykü', 'Öykü']\n",
      "[]\n"
     ]
    }
   ],
   "source": [
    "my_list = [\"Öykü\", \"Betül\", \"Gamze\", \"İrem\", \"Nihal\", \"İrem\", \"Öykü\", \"Öykü\"]\n",
    "print(my_list) \n",
    "\n",
    "my_list.clear()\n",
    "print(my_list)"
   ]
  },
  {
   "cell_type": "markdown",
   "metadata": {},
   "source": [
    "index = Bir liste içerisinde elemanın listedeki konumunu buldurur."
   ]
  },
  {
   "cell_type": "code",
   "execution_count": 31,
   "metadata": {},
   "outputs": [
    {
     "name": "stdout",
     "output_type": "stream",
     "text": [
      "2\n"
     ]
    }
   ],
   "source": [
    "movies = [\"Friends\", \"The Office\", \"The Big Bang Theory\", \"Breaking Bad\", \"How I Meet Your Mother\", \"Heartland\"]\n",
    "\n",
    "print(movies.index(\"The Big Bang Theory\"))"
   ]
  },
  {
   "cell_type": "code",
   "execution_count": 33,
   "metadata": {},
   "outputs": [
    {
     "ename": "ValueError",
     "evalue": "'Big Bang Theory' is not in list",
     "output_type": "error",
     "traceback": [
      "\u001b[1;31m---------------------------------------------------------------------------\u001b[0m",
      "\u001b[1;31mValueError\u001b[0m                                Traceback (most recent call last)",
      "Cell \u001b[1;32mIn [33], line 3\u001b[0m\n\u001b[0;32m      1\u001b[0m \u001b[38;5;66;03m#Liste içerisinde yer almayan bir elemanın indexini aradığımızda ise hata alırız.\u001b[39;00m\n\u001b[1;32m----> 3\u001b[0m \u001b[38;5;28mprint\u001b[39m(\u001b[43mmovies\u001b[49m\u001b[38;5;241;43m.\u001b[39;49m\u001b[43mindex\u001b[49m\u001b[43m(\u001b[49m\u001b[38;5;124;43m\"\u001b[39;49m\u001b[38;5;124;43mBig Bang Theory\u001b[39;49m\u001b[38;5;124;43m\"\u001b[39;49m\u001b[43m)\u001b[49m)\n",
      "\u001b[1;31mValueError\u001b[0m: 'Big Bang Theory' is not in list"
     ]
    }
   ],
   "source": [
    " #Liste içerisinde yer almayan bir elemanın indexini aradığımızda ise hata alırız.\n",
    "\n",
    "print(movies.index(\"Big Bang Theory\"))"
   ]
  },
  {
   "cell_type": "markdown",
   "metadata": {},
   "source": [
    "Eğer bir liste içerisindeki tekrar eden bir değerin hepsini silmek istersek bunu index ile belirterek pop ile silebiliriz. \n",
    "\n",
    "Burada while kullanmamızın sebebi koşul sağlandıkça bu işlemi tekrar ettirip eğer aranan değer ise silmeye devam edecek şekilde çalışır."
   ]
  },
  {
   "cell_type": "code",
   "execution_count": 37,
   "metadata": {},
   "outputs": [
    {
     "name": "stdout",
     "output_type": "stream",
     "text": [
      "['Betül', 'Gamze', 'İrem', 'Nihal', 'İrem']\n"
     ]
    }
   ],
   "source": [
    "my_list = [\"Öykü\", \"Betül\", \"Gamze\", \"İrem\", \"Nihal\", \"İrem\", \"Öykü\", \"Öykü\"]\n",
    "\n",
    "while \"Öykü\" in my_list:\n",
    "    my_list.pop(my_list.index(\"Öykü\"))\n",
    "\n",
    "print(my_list)"
   ]
  },
  {
   "cell_type": "markdown",
   "metadata": {},
   "source": [
    "İki listeyi birleştirme\n",
    "* (+) operatörü ile\n",
    "* extend ile"
   ]
  },
  {
   "cell_type": "code",
   "execution_count": 34,
   "metadata": {},
   "outputs": [
    {
     "name": "stdout",
     "output_type": "stream",
     "text": [
      "[1, 2, 3, 4, 5, 6]\n"
     ]
    }
   ],
   "source": [
    "my_list1 = [1, 2, 3]\n",
    "my_list2 = [4, 5, 6]\n",
    "\n",
    "my_list3 = my_list1 + my_list2\n",
    "print(my_list3)"
   ]
  },
  {
   "cell_type": "code",
   "execution_count": 35,
   "metadata": {},
   "outputs": [
    {
     "name": "stdout",
     "output_type": "stream",
     "text": [
      "[1, 2, 3, 4, 5, 6, 1]\n"
     ]
    }
   ],
   "source": [
    "my_list1 = [1, 2, 3]\n",
    "my_list2 = [4, 5, 6, 1]\n",
    "\n",
    "my_list1.extend(my_list2)\n",
    "print(my_list1)"
   ]
  },
  {
   "cell_type": "markdown",
   "metadata": {},
   "source": [
    "Bir Listenin Kopyalanması\n",
    "\n",
    "* Atama operatörü ile yapılan kopyalamada yapılan değişiklik her iki listeyi de etkilemektedir.\n",
    "\n",
    "* copy ile yapılan kopyalamada ise esas listede yapılan değişiklikler kopyalama ile çoğaltılan listeyi etkilemez."
   ]
  },
  {
   "cell_type": "code",
   "execution_count": 38,
   "metadata": {},
   "outputs": [
    {
     "name": "stdout",
     "output_type": "stream",
     "text": [
      "[1, 2, 3, 4]\n"
     ]
    }
   ],
   "source": [
    "my_list = [1, 2, 3]\n",
    "\n",
    "new_list = my_list\n",
    "\n",
    "my_list.append(4)\n",
    "print(new_list)"
   ]
  },
  {
   "cell_type": "code",
   "execution_count": 39,
   "metadata": {},
   "outputs": [
    {
     "name": "stdout",
     "output_type": "stream",
     "text": [
      "[1, 2, 3]\n"
     ]
    }
   ],
   "source": [
    "my_list = [1, 2, 3]\n",
    "\n",
    "new_list = my_list.copy()\n",
    "\n",
    "my_list.append(4)\n",
    "print(new_list)"
   ]
  },
  {
   "cell_type": "markdown",
   "metadata": {},
   "source": [
    "* sort\n",
    "* reverse\n",
    "* max, min\n",
    "* sum"
   ]
  },
  {
   "cell_type": "code",
   "execution_count": 40,
   "metadata": {},
   "outputs": [
    {
     "name": "stdout",
     "output_type": "stream",
     "text": [
      "Listenin ilk hali:  [1, 6, 3, 8, 0]\n",
      "Listenin sıralanmış hali:  [0, 1, 3, 6, 8]\n",
      "Listenin tersten sıralanmış hali:  [8, 6, 3, 1, 0]\n",
      "Listenin max. elemanı:  8\n",
      "Listenin min. elemanı:  0\n",
      "Listenin elemanlarının toplamı:  18\n"
     ]
    }
   ],
   "source": [
    "my_list = [1, 6, 3, 8, 0]\n",
    "print(\"Listenin ilk hali: \", my_list)\n",
    "\n",
    "my_list.sort()\n",
    "print(\"Listenin sıralanmış hali: \", my_list)\n",
    "\n",
    "my_list.reverse()\n",
    "print(\"Listenin tersten sıralanmış hali: \", my_list)\n",
    "\n",
    "print(\"Listenin max. elemanı: \", max(my_list))\n",
    "print(\"Listenin min. elemanı: \", min(my_list))\n",
    "print(\"Listenin elemanlarının toplamı: \", sum(my_list))\n"
   ]
  },
  {
   "cell_type": "markdown",
   "metadata": {},
   "source": [
    "**İç İçe Listeler**"
   ]
  },
  {
   "cell_type": "code",
   "execution_count": 42,
   "metadata": {},
   "outputs": [
    {
     "name": "stdout",
     "output_type": "stream",
     "text": [
      "['Endüstri Mühendisi', 'Osmangazi Üniversitesi', 2017]\n",
      "Endüstri Mühendisi\n",
      "2017\n"
     ]
    }
   ],
   "source": [
    "my_list = [\"Büşra Duran\", 2021, [\"Endüstri Mühendisi\", \"Osmangazi Üniversitesi\", 2017], 4, 123456]\n",
    "\n",
    "print(my_list[2])\n",
    "print(my_list[2][0])\n",
    "print(my_list[2][-1])"
   ]
  },
  {
   "cell_type": "code",
   "execution_count": 47,
   "metadata": {},
   "outputs": [
    {
     "name": "stdout",
     "output_type": "stream",
     "text": [
      "[4, 16, 36, 64, 100, 0]\n"
     ]
    }
   ],
   "source": [
    "# Bu listedeki çift sayıların karelerinen yeni bir liste oluşturalım.\n",
    "\n",
    "my_list = [1, 2, 3, 4, 5, 6, 7, 8, 9, 10, 0]\n",
    "\n",
    "new_list = []\n",
    "for item in my_list:\n",
    "    if item % 2 ==0:\n",
    "        new_list.append(item ** 2)\n",
    "\n",
    "print(new_list)"
   ]
  },
  {
   "cell_type": "code",
   "execution_count": 52,
   "metadata": {},
   "outputs": [
    {
     "name": "stdout",
     "output_type": "stream",
     "text": [
      "['Büşra Duran', 2021, ['Endüstri Mühendisi', 'Osmangazi Üniversitesi', 2017, 'Eğitmen'], 4, 123456]\n"
     ]
    }
   ],
   "source": [
    "# Eğitmen title değerini 2. indexe ekleyelim.\n",
    "\n",
    "my_list = [\"Büşra Duran\", 2021, [\"Endüstri Mühendisi\", \"Osmangazi Üniversitesi\", 2017], 4, 123456]\n",
    "\n",
    "my_list[2].append(\"Eğitmen\")\n",
    "print(my_list)\n",
    "\n"
   ]
  },
  {
   "cell_type": "code",
   "execution_count": 53,
   "metadata": {},
   "outputs": [
    {
     "name": "stdout",
     "output_type": "stream",
     "text": [
      "[10, 20, 30, 40, 50]\n"
     ]
    }
   ],
   "source": [
    "#Duplicate verileri temilzyerek yeni bir kliste oluşturalım.\n",
    "\n",
    "my_list = [10, 10, 20, 30, 10, 20, 40, 50]\n",
    "unique_list = []\n",
    "\n",
    "for i in my_list:\n",
    "    if i not in unique_list:    # listemizin içinde yoksa demek için \"not in\" kullandık.\n",
    "        unique_list.append(i)\n",
    "\n",
    "print(unique_list)"
   ]
  },
  {
   "cell_type": "code",
   "execution_count": null,
   "metadata": {},
   "outputs": [],
   "source": [
    "# "
   ]
  }
 ],
 "metadata": {
  "kernelspec": {
   "display_name": "Python 3.10.5 32-bit",
   "language": "python",
   "name": "python3"
  },
  "language_info": {
   "codemirror_mode": {
    "name": "ipython",
    "version": 3
   },
   "file_extension": ".py",
   "mimetype": "text/x-python",
   "name": "python",
   "nbconvert_exporter": "python",
   "pygments_lexer": "ipython3",
   "version": "3.10.5"
  },
  "orig_nbformat": 4,
  "vscode": {
   "interpreter": {
    "hash": "3a76228ad2be0688f8ad5f22cd5a5c34eb0a8c6f0341e9e6e30d2b6319109a87"
   }
  }
 },
 "nbformat": 4,
 "nbformat_minor": 2
}
