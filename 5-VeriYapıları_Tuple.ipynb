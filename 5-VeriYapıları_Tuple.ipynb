{
 "cells": [
  {
   "cell_type": "markdown",
   "metadata": {},
   "source": [
    "**Tuple**\n",
    "\n",
    "* index ile erişilebilir, ordered yani sıralıdır.\n",
    "* Listelere benzer ama farklı olarak listelerde eleman değişikliği yapılabilirken tuple da bu mümkün değildir. immutable bir yapıdadır.\n",
    "* () içerisinde tanımlanır. Elemanlar virgül ile ayrılır.\n",
    "* Farklı veri tipinde veriler içerebilir.\n",
    "* Dublicate veri barındırabilir. Yani aynı eleman birden çok kez yazılabilir.\n",
    "* tuple tanımlanırken illa parantez içerisinde belirtilmesine gerek yoktur."
   ]
  },
  {
   "cell_type": "code",
   "execution_count": 4,
   "metadata": {},
   "outputs": [
    {
     "name": "stdout",
     "output_type": "stream",
     "text": [
      "(1, 6, 4, 1, 'python', True, 13.4)\n"
     ]
    },
    {
     "data": {
      "text/plain": [
       "tuple"
      ]
     },
     "execution_count": 4,
     "metadata": {},
     "output_type": "execute_result"
    }
   ],
   "source": [
    "int_tuple = (1, 2, 3)\n",
    "str_tuple = (\"python\", \"kotlin\", \"javascript\", \"flutter\")\n",
    "mix_tuple = (1, 6, 4, 1, \"python\", True, 13.4)\n",
    "\n",
    "print(mix_tuple)\n",
    "type(mix_tuple)"
   ]
  },
  {
   "cell_type": "code",
   "execution_count": 5,
   "metadata": {},
   "outputs": [
    {
     "data": {
      "text/plain": [
       "tuple"
      ]
     },
     "execution_count": 5,
     "metadata": {},
     "output_type": "execute_result"
    }
   ],
   "source": [
    "my_tuple = \"Büşra\", 23, 7809\n",
    "\n",
    "type(my_tuple)"
   ]
  },
  {
   "cell_type": "code",
   "execution_count": 6,
   "metadata": {},
   "outputs": [
    {
     "name": "stdout",
     "output_type": "stream",
     "text": [
      "Büşra 23 7809\n"
     ]
    }
   ],
   "source": [
    "name, age, salary = my_tuple\n",
    "print(name, age, salary)"
   ]
  },
  {
   "cell_type": "markdown",
   "metadata": {},
   "source": [
    "Bu iki kısımda my_tuple için değerler parantez kullanılmadan yazıldı. Daha sonra name, age ve salary değişken isimlerini my_tuple değerlerine eşitle dedikten sonra name, age ve salary değerlerini yazdırırsak my_tuple değerlerini görüntüler."
   ]
  },
  {
   "cell_type": "code",
   "execution_count": 7,
   "metadata": {},
   "outputs": [
    {
     "name": "stdout",
     "output_type": "stream",
     "text": [
      "Tuple uzunluğu  3\n"
     ]
    }
   ],
   "source": [
    "print(\"Tuple uzunluğu \", len(my_tuple))"
   ]
  },
  {
   "cell_type": "markdown",
   "metadata": {},
   "source": [
    "**Döngü ile Erişim**"
   ]
  },
  {
   "cell_type": "code",
   "execution_count": 11,
   "metadata": {},
   "outputs": [
    {
     "name": "stdout",
     "output_type": "stream",
     "text": [
      "Büşra\n",
      "23\n",
      "7809\n"
     ]
    }
   ],
   "source": [
    "for item in my_tuple:\n",
    "    print(item)"
   ]
  },
  {
   "cell_type": "code",
   "execution_count": 12,
   "metadata": {},
   "outputs": [
    {
     "name": "stdout",
     "output_type": "stream",
     "text": [
      "0. index değeri: python\n",
      "1. index değeri: kotlin\n",
      "2. index değeri: javascript\n",
      "3. index değeri: flutter\n"
     ]
    }
   ],
   "source": [
    "my_tuple = (\"python\", \"kotlin\", \"javascript\", \"flutter\")\n",
    "\n",
    "for i in range(len(my_tuple)):\n",
    "    print(f\"{i}. index değeri: {my_tuple[i]}\")"
   ]
  },
  {
   "cell_type": "code",
   "execution_count": 13,
   "metadata": {},
   "outputs": [
    {
     "ename": "IndexError",
     "evalue": "tuple index out of range",
     "output_type": "error",
     "traceback": [
      "\u001b[1;31m---------------------------------------------------------------------------\u001b[0m",
      "\u001b[1;31mIndexError\u001b[0m                                Traceback (most recent call last)",
      "Cell \u001b[1;32mIn [13], line 1\u001b[0m\n\u001b[1;32m----> 1\u001b[0m \u001b[39mprint\u001b[39m(my_tuple[\u001b[39m9\u001b[39;49m])\n",
      "\u001b[1;31mIndexError\u001b[0m: tuple index out of range"
     ]
    }
   ],
   "source": [
    "print(my_tuple[9])  #tuple içerisinde olmayan bir indexin değeri bulunmak istenirse hata ile karşılaşılır."
   ]
  },
  {
   "cell_type": "code",
   "execution_count": 14,
   "metadata": {},
   "outputs": [
    {
     "name": "stdout",
     "output_type": "stream",
     "text": [
      "flutter\n"
     ]
    }
   ],
   "source": [
    "print(my_tuple[-1]) #tuple içerisindeki değerleri son indexten başlayarak buldurmak için negatif indexler kullanılabilir."
   ]
  },
  {
   "cell_type": "code",
   "execution_count": 15,
   "metadata": {},
   "outputs": [
    {
     "data": {
      "text/plain": [
       "('kotlin', 'javascript')"
      ]
     },
     "execution_count": 15,
     "metadata": {},
     "output_type": "execute_result"
    }
   ],
   "source": [
    "#slicing: tuple içerisindeki elemanların belirli aralıklarda görüntülememize imkan verir. Başlangıç bitiş ve artış miktarı : ile ayrılarak köşeli parantez içine yazılır.\n",
    "\n",
    "my_tuple[1:3]"
   ]
  },
  {
   "cell_type": "code",
   "execution_count": 17,
   "metadata": {},
   "outputs": [
    {
     "data": {
      "text/plain": [
       "1"
      ]
     },
     "execution_count": 17,
     "metadata": {},
     "output_type": "execute_result"
    }
   ],
   "source": [
    "#index: Tuple içerisindeki aranan eleanın index bilgisini verir.\n",
    "\n",
    "my_tuple.index(\"kotlin\")"
   ]
  },
  {
   "cell_type": "code",
   "execution_count": 18,
   "metadata": {},
   "outputs": [
    {
     "data": {
      "text/plain": [
       "1"
      ]
     },
     "execution_count": 18,
     "metadata": {},
     "output_type": "execute_result"
    }
   ],
   "source": [
    "#index: eğer bir bitiş ve başlangıç değeri verilirse aranan elman o başlangıç bitiş değeri içinde kaçıncı indextedir bunu buluruz.\n",
    "\n",
    "my_tuple.index(\"kotlin\", 0, 3)"
   ]
  },
  {
   "cell_type": "code",
   "execution_count": 19,
   "metadata": {},
   "outputs": [
    {
     "name": "stdout",
     "output_type": "stream",
     "text": [
      "Kotlin tuple içerisinde ekli\n"
     ]
    }
   ],
   "source": [
    "if \"kotlin\" in my_tuple:\n",
    "    print(\"Kotlin tuple içerisinde ekli\")\n",
    "else: print(\"Kotlin tuple içerisinde ekli değil\")"
   ]
  },
  {
   "cell_type": "markdown",
   "metadata": {},
   "source": [
    "Bir tuple üzerinde eleman ekleme, silme, düzenleme işlemleri yapılamaz. Yapıldığı durumlarda hata alınır."
   ]
  },
  {
   "cell_type": "code",
   "execution_count": 20,
   "metadata": {},
   "outputs": [
    {
     "ename": "TypeError",
     "evalue": "'tuple' object does not support item assignment",
     "output_type": "error",
     "traceback": [
      "\u001b[1;31m---------------------------------------------------------------------------\u001b[0m",
      "\u001b[1;31mTypeError\u001b[0m                                 Traceback (most recent call last)",
      "Cell \u001b[1;32mIn [20], line 1\u001b[0m\n\u001b[1;32m----> 1\u001b[0m my_tuple[\u001b[39m0\u001b[39;49m] \u001b[39m=\u001b[39m \u001b[39m\"\u001b[39m\u001b[39mjava\u001b[39m\u001b[39m\"\u001b[39m\n",
      "\u001b[1;31mTypeError\u001b[0m: 'tuple' object does not support item assignment"
     ]
    }
   ],
   "source": [
    "my_tuple[0] = \"java\""
   ]
  },
  {
   "cell_type": "markdown",
   "metadata": {},
   "source": [
    "Peki tuple üzerinde değişiklik yapmak istediğimizde bunu nasıl yaparız? Listelerde değişiiklik yapılabildiğinden tuple'ı liste haline çevirir ve yapmak istediğimiz değişiklikleri yaptıktan sonra listeyi tuple haline geri type değiştirme ile getiririz."
   ]
  },
  {
   "cell_type": "code",
   "execution_count": 23,
   "metadata": {},
   "outputs": [
    {
     "name": "stdout",
     "output_type": "stream",
     "text": [
      "Type:  <class 'tuple'>\n",
      "Covert type:  <class 'list'>\n",
      "[0, 1, 2, 3, 4]\n",
      "[0, 1, 2, 3, 4, 5]\n",
      "[0, 1, 2, 3, 4, 5, 6, 7, 8]\n",
      "Tuple son hali:  (0, 1, 2, 3, 4, 5, 6, 7, 8)\n"
     ]
    }
   ],
   "source": [
    "my_tuple = (1, 2, 3, 4)\n",
    "print(\"Type: \",type(my_tuple))\n",
    "\n",
    "temp_list = list(my_tuple)\n",
    "print(\"Covert type: \", type(temp_list))\n",
    "\n",
    "temp_list.insert(0,0)\n",
    "print(temp_list)\n",
    "\n",
    "temp_list.append(5)\n",
    "print(temp_list)\n",
    "\n",
    "temp_list.extend([6, 7, 8])\n",
    "print(temp_list)\n",
    "\n",
    "my_tuple = tuple(temp_list)\n",
    "print(\"Tuple son hali: \", my_tuple)\n"
   ]
  },
  {
   "cell_type": "markdown",
   "metadata": {},
   "source": [
    "Peki tuple içerisinde bir liste varsa bu liste içerisindeki elemanlar üzerinde herhangi bir değişiklik mümkün mü? \n",
    "Mümkün. Çünkü ulaştığımız eleman liste elemanları ve liste ne içerisinde olursa olsun sahip olduğu özellikleri korur."
   ]
  },
  {
   "cell_type": "code",
   "execution_count": 24,
   "metadata": {},
   "outputs": [
    {
     "name": "stdout",
     "output_type": "stream",
     "text": [
      "(1, 2, 3, 4, 5, [3, 8, 7, 6], 9)\n"
     ]
    }
   ],
   "source": [
    "my_tuple = (1, 2, 3, 4, 5, [9, 8, 7, 6],9)\n",
    "\n",
    "my_tuple[5][0] = 3\n",
    "print(my_tuple)"
   ]
  },
  {
   "cell_type": "code",
   "execution_count": 25,
   "metadata": {},
   "outputs": [
    {
     "name": "stdout",
     "output_type": "stream",
     "text": [
      "(1, 2, 3, 4, 5, [3, 8, 7, 6], 9)\n"
     ]
    }
   ],
   "source": [
    "my_tuple1 = my_tuple\n",
    "print(my_tuple1)"
   ]
  },
  {
   "cell_type": "code",
   "execution_count": 26,
   "metadata": {},
   "outputs": [
    {
     "data": {
      "text/plain": [
       "9"
      ]
     },
     "execution_count": 26,
     "metadata": {},
     "output_type": "execute_result"
    }
   ],
   "source": [
    "my_tuple = (1, 2, 9, 3, 4)\n",
    "\n",
    "max(my_tuple)"
   ]
  },
  {
   "cell_type": "markdown",
   "metadata": {},
   "source": [
    "Liste ve tuple kıyaslaması yaparsak;\n",
    "* Tuple da () listeler de ise [] kullanılıyor.\n",
    "* Her ikisinde de elemanlara indexler ile erişim sağlanabilir.\n",
    "* Tuple değiştirilemezdir.\n",
    "* Her ikisi de farklı tipte veriler içerebilir.\n",
    "* Her ikisi de dublicate veri barındırabilir."
   ]
  }
 ],
 "metadata": {
  "kernelspec": {
   "display_name": "Python 3.10.5 32-bit",
   "language": "python",
   "name": "python3"
  },
  "language_info": {
   "codemirror_mode": {
    "name": "ipython",
    "version": 3
   },
   "file_extension": ".py",
   "mimetype": "text/x-python",
   "name": "python",
   "nbconvert_exporter": "python",
   "pygments_lexer": "ipython3",
   "version": "3.10.5"
  },
  "orig_nbformat": 4,
  "vscode": {
   "interpreter": {
    "hash": "3a76228ad2be0688f8ad5f22cd5a5c34eb0a8c6f0341e9e6e30d2b6319109a87"
   }
  }
 },
 "nbformat": 4,
 "nbformat_minor": 2
}
